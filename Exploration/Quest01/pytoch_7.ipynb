{
 "cells": [
  {
   "cell_type": "code",
   "execution_count": 1,
   "metadata": {
    "colab": {
     "base_uri": "https://localhost:8080/"
    },
    "executionInfo": {
     "elapsed": 21295,
     "status": "ok",
     "timestamp": 1753609748680,
     "user": {
      "displayName": "김형일",
      "userId": "09633833925626345996"
     },
     "user_tz": -540
    },
    "id": "2ZAa0lrwZqP5",
    "outputId": "6c50c246-af9c-4b1a-e085-7a6ab2551ea5"
   },
   "outputs": [
    {
     "name": "stdout",
     "output_type": "stream",
     "text": [
      "Mounted at /content/drive\n"
     ]
    }
   ],
   "source": [
    "from google.colab import drive\n",
    "drive.mount('/content/drive')"
   ]
  },
  {
   "cell_type": "code",
   "execution_count": null,
   "metadata": {
    "colab": {
     "base_uri": "https://localhost:8080/"
    },
    "executionInfo": {
     "elapsed": 1687,
     "status": "ok",
     "timestamp": 1753609761806,
     "user": {
      "displayName": "김형일",
      "userId": "09633833925626345996"
     },
     "user_tz": -540
    },
    "id": "5Op9IL8yZ5E-",
    "outputId": "ba21049c-d1a8-47fa-8d22-af63ce42f7df"
   },
   "outputs": [],
   "source": [
    "%cd /content/drive/MyDrive/AIFFEL_quest_rs/Exploration/Quest01/\n",
    "!ls"
   ]
  },
  {
   "cell_type": "code",
   "execution_count": 1,
   "metadata": {
    "id": "tXFFTs7lXrgA"
   },
   "outputs": [
    {
     "name": "stdout",
     "output_type": "stream",
     "text": [
      "/home/jovyan/work/workplace/AIFFEL_quest_rs/Exploration/Quest01\n"
     ]
    }
   ],
   "source": [
    "!pwd"
   ]
  },
  {
   "cell_type": "code",
   "execution_count": null,
   "metadata": {
    "colab": {
     "base_uri": "https://localhost:8080/"
    },
    "executionInfo": {
     "elapsed": 9755,
     "status": "ok",
     "timestamp": 1753407581431,
     "user": {
      "displayName": "김형일",
      "userId": "09633833925626345996"
     },
     "user_tz": -540
    },
    "id": "5WwEfVVgc_5N",
    "outputId": "32b8876d-5917-458d-b25d-3d64918681b8"
   },
   "outputs": [
    {
     "name": "stdout",
     "output_type": "stream",
     "text": [
      "From https://github.com/nagujean/AIFFEL_quest_rs\n",
      " * branch            main       -> FETCH_HEAD\n",
      "Auto packing the repository in background for optimum performance.\n",
      "See \"git help gc\" for manual housekeeping.\n",
      "warning: The last gc run reported the following. Please correct the root cause\n",
      "and remove .git/gc.log\n",
      "Automatic cleanup will not be performed until the file is removed.\n",
      "\n",
      "warning: There are too many unreachable loose objects; run 'git prune' to remove them.\n",
      "\n",
      "Already up to date.\n"
     ]
    }
   ],
   "source": [
    "!git pull origin main"
   ]
  },
  {
   "cell_type": "code",
   "execution_count": 24,
   "metadata": {
    "colab": {
     "base_uri": "https://localhost:8080/"
    },
    "executionInfo": {
     "elapsed": 1117,
     "status": "ok",
     "timestamp": 1753609765342,
     "user": {
      "displayName": "김형일",
      "userId": "09633833925626345996"
     },
     "user_tz": -540
    },
    "id": "WMq5kdVVFYhT",
    "outputId": "37f295a7-b8f8-4bce-9d97-206c1c7b2658"
   },
   "outputs": [],
   "source": [
    "!git add ."
   ]
  },
  {
   "cell_type": "code",
   "execution_count": 2,
   "metadata": {
    "id": "HN_-_4mVFvEK"
   },
   "outputs": [],
   "source": [
    "  !git config --global user.email \"nagujean@gmail.com\"\n",
    "  !git config --global user.name \"nagujean\""
   ]
  },
  {
   "cell_type": "code",
   "execution_count": 25,
   "metadata": {
    "colab": {
     "base_uri": "https://localhost:8080/"
    },
    "executionInfo": {
     "elapsed": 19688,
     "status": "ok",
     "timestamp": 1753406243738,
     "user": {
      "displayName": "김형일",
      "userId": "09633833925626345996"
     },
     "user_tz": -540
    },
    "id": "iFM2Q2KOFfS9",
    "outputId": "53bca6e3-b6a0-4007-c281-800f40f2e95a"
   },
   "outputs": [
    {
     "name": "stdout",
     "output_type": "stream",
     "text": [
      "[main c33f504] commit\n",
      " 2 files changed, 1332 insertions(+), 24 deletions(-)\n",
      " create mode 100644 Exploration/Quest01/.ipynb_checkpoints/pytorch_1-checkpoint.ipynb\n"
     ]
    }
   ],
   "source": [
    "!git commit -m \"commit\""
   ]
  },
  {
   "cell_type": "code",
   "execution_count": 26,
   "metadata": {
    "colab": {
     "base_uri": "https://localhost:8080/"
    },
    "executionInfo": {
     "elapsed": 1111,
     "status": "ok",
     "timestamp": 1753406278134,
     "user": {
      "displayName": "김형일",
      "userId": "09633833925626345996"
     },
     "user_tz": -540
    },
    "id": "DDsPOZ5YF9ub",
    "outputId": "2752b921-6cb5-4b95-ae34-6295de2426ec"
   },
   "outputs": [
    {
     "name": "stdout",
     "output_type": "stream",
     "text": [
      "Username for 'https://github.com': ^C\n"
     ]
    }
   ],
   "source": [
    "!git push origin main"
   ]
  },
  {
   "cell_type": "code",
   "execution_count": 23,
   "metadata": {},
   "outputs": [],
   "source": [
    "!rm -rf \"/home/jovyan/work/workplace/AIFFEL_quest_rs/Exploration/Quest01/C:/Users/KHI/Desktop/mldata\""
   ]
  },
  {
   "cell_type": "code",
   "execution_count": 28,
   "metadata": {
    "id": "GxVUwxR8PKys"
   },
   "outputs": [],
   "source": [
    "import torch\n",
    "import os\n",
    "from torch import nn, optim\n",
    "from torch.nn import functional as F\n",
    "from torch.utils.data import DataLoader\n",
    "from torchvision import datasets, transforms, models\n",
    "from torch.utils.data import random_split"
   ]
  },
  {
   "cell_type": "code",
   "execution_count": null,
   "metadata": {},
   "outputs": [],
   "source": []
  },
  {
   "cell_type": "code",
   "execution_count": 29,
   "metadata": {
    "colab": {
     "base_uri": "https://localhost:8080/"
    },
    "executionInfo": {
     "elapsed": 132,
     "status": "ok",
     "timestamp": 1753420946979,
     "user": {
      "displayName": "김형일",
      "userId": "09633833925626345996"
     },
     "user_tz": -540
    },
    "id": "WfAEzTCgqpg9",
    "outputId": "aadcca2b-c1cf-4e09-f003-224117097e60"
   },
   "outputs": [
    {
     "name": "stdout",
     "output_type": "stream",
     "text": [
      "10000\n",
      "5000\n",
      "5000\n"
     ]
    }
   ],
   "source": [
    "target_dataset_dir = os.path.abspath(os.path.join(os.getcwd(), \"../../../datasets/mldata\")) \n",
    "\n",
    "\n",
    "transform = transforms.Compose([\n",
    "    transforms.Resize((32, 32)),\n",
    "    transforms.ToTensor(),\n",
    "    transforms.Normalize(mean=[0.485, 0.456, 0.406], std=[0.229, 0.224, 0.225])\n",
    "])\n",
    "\n",
    "\n",
    "train_dataset = datasets.CIFAR10(root=target_dataset_dir, train=True, download=True, transform=transform)\n",
    "val_dataset = datasets.CIFAR10(root=target_dataset_dir, train=False, download=True, transform=transform)\n",
    "\n",
    "val_size = len(val_dataset)\n",
    "print(val_size)\n",
    "test_size = val_size // 2\n",
    "print(test_size)\n",
    "new_val_size = val_size - test_size\n",
    "print(new_val_size)\n",
    "\n",
    "val_dataset, test_dataset = random_split(val_dataset, [new_val_size, test_size], generator=torch.Generator().manual_seed(2025))\n",
    "\n",
    "train_dataloader = DataLoader(train_dataset, batch_size=32, shuffle=True)\n",
    "val_dataloader = DataLoader(val_dataset, batch_size=32, shuffle=True)\n",
    "test_dataloader = DataLoader(test_dataset, batch_size=32, shuffle=True)"
   ]
  },
  {
   "cell_type": "code",
   "execution_count": 30,
   "metadata": {},
   "outputs": [
    {
     "name": "stdout",
     "output_type": "stream",
     "text": [
      "현재 파이썬 코드가 사용하는 데이터셋 저장 경로: /home/jovyan/work/workplace/datasets/mldata\n"
     ]
    }
   ],
   "source": [
    "print(f\"현재 파이썬 코드가 사용하는 데이터셋 저장 경로: {target_dataset_dir}\")"
   ]
  },
  {
   "cell_type": "code",
   "execution_count": 31,
   "metadata": {
    "colab": {
     "base_uri": "https://localhost:8080/"
    },
    "executionInfo": {
     "elapsed": 9073,
     "status": "ok",
     "timestamp": 1753420956051,
     "user": {
      "displayName": "김형일",
      "userId": "09633833925626345996"
     },
     "user_tz": -540
    },
    "id": "DKXNxYM05rst",
    "outputId": "6494e6a1-0b89-45b9-e2f6-70d70f85dd93"
   },
   "outputs": [
    {
     "name": "stdout",
     "output_type": "stream",
     "text": [
      "Shape of X [N, C, H, W]: torch.Size([32, 3, 32, 32])\n",
      "Shape of y: torch.Size([32]) torch.int64\n"
     ]
    }
   ],
   "source": [
    "for X, y in test_dataloader:\n",
    "    print(f\"Shape of X [N, C, H, W]: {X.shape}\")\n",
    "    print(f\"Shape of y: {y.shape} {y.dtype}\")\n",
    "    break"
   ]
  },
  {
   "cell_type": "code",
   "execution_count": null,
   "metadata": {
    "id": "a4-FYkfAuKpF"
   },
   "outputs": [],
   "source": []
  },
  {
   "cell_type": "code",
   "execution_count": 32,
   "metadata": {
    "colab": {
     "base_uri": "https://localhost:8080/"
    },
    "executionInfo": {
     "elapsed": 678,
     "status": "ok",
     "timestamp": 1753420956737,
     "user": {
      "displayName": "김형일",
      "userId": "09633833925626345996"
     },
     "user_tz": -540
    },
    "id": "nuskXIqOPKqM",
    "outputId": "1e2070ef-58dd-4c1a-c21b-7c1ae5639f88"
   },
   "outputs": [
    {
     "name": "stdout",
     "output_type": "stream",
     "text": [
      "Using cpu device\n",
      "NeuralNetwork(\n",
      "  (flatten): Flatten(start_dim=1, end_dim=-1)\n",
      "  (linear_relu_stack): Sequential(\n",
      "    (0): Linear(in_features=3072, out_features=512, bias=True)\n",
      "    (1): ReLU()\n",
      "    (2): Linear(in_features=512, out_features=512, bias=True)\n",
      "    (3): ReLU()\n",
      "    (4): Linear(in_features=512, out_features=10, bias=True)\n",
      "  )\n",
      ")\n"
     ]
    }
   ],
   "source": [
    "# 학습에 사용할 CPU나 GPU, MPS 장치를 얻습니다.\n",
    "device = (\n",
    "    \"cuda\"\n",
    "    if torch.cuda.is_available()\n",
    "    else \"mps\"\n",
    "    if torch.backends.mps.is_available()\n",
    "    else \"cpu\"\n",
    ")\n",
    "print(f\"Using {device} device\")\n",
    "\n",
    "# 모델을 정의합니다.\n",
    "class NeuralNetwork(nn.Module):\n",
    "    def __init__(self):\n",
    "        super().__init__()\n",
    "        self.flatten = nn.Flatten()\n",
    "        self.linear_relu_stack = nn.Sequential(\n",
    "            nn.Linear(3*32*32, 512),\n",
    "            nn.ReLU(),\n",
    "            nn.Linear(512, 512),\n",
    "            nn.ReLU(),\n",
    "            nn.Linear(512, 10)\n",
    "        )\n",
    "\n",
    "    def forward(self, x):\n",
    "        x = self.flatten(x)\n",
    "        logits = self.linear_relu_stack(x)\n",
    "        return logits\n",
    "\n",
    "model = NeuralNetwork().to(device)\n",
    "print(model)"
   ]
  },
  {
   "cell_type": "code",
   "execution_count": 33,
   "metadata": {
    "id": "lTozvF5iPKld"
   },
   "outputs": [],
   "source": [
    "loss_fn = nn.CrossEntropyLoss()\n",
    "optimizer = torch.optim.SGD(model.parameters(), lr=1e-3)"
   ]
  },
  {
   "cell_type": "code",
   "execution_count": 34,
   "metadata": {
    "id": "KrEq0dG2sjEP"
   },
   "outputs": [],
   "source": [
    "def train(dataloader, model, loss_fn, optimizer):\n",
    "    size = len(dataloader.dataset)\n",
    "    for batch, (X, y) in enumerate(dataloader):\n",
    "        X, y = X.to(device), y.to(device)\n",
    "\n",
    "        # 예측 오류 계산\n",
    "        pred = model(X)\n",
    "        loss = loss_fn(pred, y)\n",
    "\n",
    "        # 역전파\n",
    "        loss.backward()\n",
    "        optimizer.step()\n",
    "        optimizer.zero_grad()\n",
    "\n",
    "        if batch % 100 == 0:\n",
    "            loss, current = loss.item(), (batch + 1) * len(X)\n",
    "            print(f\"loss: {loss:>7f}  [{current:>5d}/{size:>5d}]\")"
   ]
  },
  {
   "cell_type": "code",
   "execution_count": 35,
   "metadata": {
    "id": "uzHwV3bwsABn"
   },
   "outputs": [],
   "source": [
    "def val(dataloader, model, loss_fn):\n",
    "    model.eval()\n",
    "    val_loss = 0\n",
    "    correct = 0\n",
    "    total = 0\n",
    "\n",
    "    with torch.no_grad():\n",
    "        for X, y in dataloader:\n",
    "            X, y = X.to(device), y.to(device)\n",
    "            pred = model(X)\n",
    "            val_loss += loss_fn(pred, y).item()\n",
    "\n",
    "            correct += (pred.argmax(1) == y).sum().item()\n",
    "            total += y.size(0)\n",
    "\n",
    "    avg_loss = val_loss / len(dataloader)\n",
    "    accuracy = correct / total * 100\n",
    "    print(f\"Validation loss: {avg_loss:.4f}, Accuracy: {accuracy:.2f}%\\n\")"
   ]
  },
  {
   "cell_type": "code",
   "execution_count": 36,
   "metadata": {
    "id": "7dKQ_yB5PKf9"
   },
   "outputs": [],
   "source": [
    "def test(dataloader, model, loss_fn):\n",
    "    size = len(dataloader.dataset)\n",
    "    num_batches = len(dataloader)\n",
    "    model.eval()\n",
    "    test_loss, correct = 0, 0\n",
    "    with torch.no_grad():\n",
    "        for X, y in dataloader:\n",
    "            X, y = X.to(device), y.to(device)\n",
    "            pred = model(X)\n",
    "            test_loss += loss_fn(pred, y).item()\n",
    "            correct += (pred.argmax(1) == y).type(torch.float).sum().item()\n",
    "    test_loss /= num_batches\n",
    "    correct /= size\n",
    "    print(f\"Test Error: \\n Accuracy: {(100*correct):>0.1f}%, Avg loss: {test_loss:>8f} \\n\")"
   ]
  },
  {
   "cell_type": "code",
   "execution_count": 37,
   "metadata": {
    "colab": {
     "base_uri": "https://localhost:8080/"
    },
    "id": "9tG13uxaPKc1",
    "outputId": "8f9b048c-9517-4bd2-f008-09137e671b6d"
   },
   "outputs": [
    {
     "name": "stdout",
     "output_type": "stream",
     "text": [
      "Epoch 1\n",
      "-------------------------------\n",
      "loss: 2.313846  [   32/50000]\n",
      "loss: 2.299055  [ 3232/50000]\n",
      "loss: 2.258565  [ 6432/50000]\n",
      "loss: 2.218471  [ 9632/50000]\n",
      "loss: 2.170770  [12832/50000]\n",
      "loss: 2.195712  [16032/50000]\n",
      "loss: 2.164032  [19232/50000]\n",
      "loss: 2.085094  [22432/50000]\n",
      "loss: 2.117492  [25632/50000]\n",
      "loss: 2.123585  [28832/50000]\n",
      "loss: 2.304708  [32032/50000]\n",
      "loss: 2.136848  [35232/50000]\n",
      "loss: 1.971008  [38432/50000]\n",
      "loss: 2.043857  [41632/50000]\n",
      "loss: 1.977215  [44832/50000]\n",
      "loss: 1.932513  [48032/50000]\n",
      "Validation loss: 1.9837, Accuracy: 30.84%\n",
      "\n",
      "Test Error: \n",
      " Accuracy: 31.9%, Avg loss: 1.979762 \n",
      "\n",
      "Epoch 2\n",
      "-------------------------------\n",
      "loss: 1.936919  [   32/50000]\n",
      "loss: 2.046080  [ 3232/50000]\n",
      "loss: 1.965659  [ 6432/50000]\n",
      "loss: 1.832719  [ 9632/50000]\n",
      "loss: 2.050475  [12832/50000]\n",
      "loss: 1.910905  [16032/50000]\n",
      "loss: 1.694771  [19232/50000]\n",
      "loss: 1.880256  [22432/50000]\n",
      "loss: 1.800857  [25632/50000]\n",
      "loss: 2.082801  [28832/50000]\n",
      "loss: 1.861462  [32032/50000]\n",
      "loss: 2.060397  [35232/50000]\n",
      "loss: 1.924333  [38432/50000]\n",
      "loss: 1.935325  [41632/50000]\n",
      "loss: 1.837845  [44832/50000]\n",
      "loss: 1.960485  [48032/50000]\n",
      "Validation loss: 1.8397, Accuracy: 35.32%\n",
      "\n",
      "Test Error: \n",
      " Accuracy: 36.4%, Avg loss: 1.842282 \n",
      "\n",
      "Epoch 3\n",
      "-------------------------------\n",
      "loss: 1.505771  [   32/50000]\n",
      "loss: 1.780903  [ 3232/50000]\n",
      "loss: 2.168721  [ 6432/50000]\n",
      "loss: 1.975967  [ 9632/50000]\n",
      "loss: 1.911829  [12832/50000]\n",
      "loss: 1.860181  [16032/50000]\n",
      "loss: 1.990646  [19232/50000]\n",
      "loss: 1.801884  [22432/50000]\n",
      "loss: 1.740084  [25632/50000]\n",
      "loss: 1.781394  [28832/50000]\n",
      "loss: 1.717623  [32032/50000]\n",
      "loss: 1.905368  [35232/50000]\n",
      "loss: 1.767750  [38432/50000]\n",
      "loss: 1.780745  [41632/50000]\n",
      "loss: 1.791563  [44832/50000]\n",
      "loss: 1.830886  [48032/50000]\n",
      "Validation loss: 1.7533, Accuracy: 38.52%\n",
      "\n",
      "Test Error: \n",
      " Accuracy: 39.9%, Avg loss: 1.762655 \n",
      "\n",
      "Epoch 4\n",
      "-------------------------------\n",
      "loss: 1.607507  [   32/50000]\n",
      "loss: 1.733031  [ 3232/50000]\n",
      "loss: 1.874306  [ 6432/50000]\n",
      "loss: 1.916763  [ 9632/50000]\n",
      "loss: 1.692969  [12832/50000]\n",
      "loss: 1.655231  [16032/50000]\n",
      "loss: 1.529237  [19232/50000]\n",
      "loss: 1.703092  [22432/50000]\n",
      "loss: 1.961096  [25632/50000]\n",
      "loss: 1.618339  [28832/50000]\n",
      "loss: 1.647135  [32032/50000]\n",
      "loss: 1.982192  [35232/50000]\n",
      "loss: 1.488038  [38432/50000]\n",
      "loss: 1.676809  [41632/50000]\n",
      "loss: 1.695076  [44832/50000]\n",
      "loss: 1.632955  [48032/50000]\n",
      "Validation loss: 1.6921, Accuracy: 40.24%\n",
      "\n",
      "Test Error: \n",
      " Accuracy: 41.2%, Avg loss: 1.699693 \n",
      "\n",
      "Epoch 5\n",
      "-------------------------------\n",
      "loss: 1.705071  [   32/50000]\n",
      "loss: 1.834255  [ 3232/50000]\n",
      "loss: 1.253839  [ 6432/50000]\n",
      "loss: 1.935312  [ 9632/50000]\n",
      "loss: 1.531282  [12832/50000]\n",
      "loss: 1.648949  [16032/50000]\n",
      "loss: 1.823617  [19232/50000]\n",
      "loss: 1.649187  [22432/50000]\n",
      "loss: 1.772280  [25632/50000]\n",
      "loss: 1.552781  [28832/50000]\n",
      "loss: 1.768879  [32032/50000]\n",
      "loss: 1.681893  [35232/50000]\n",
      "loss: 1.927683  [38432/50000]\n",
      "loss: 1.778462  [41632/50000]\n",
      "loss: 1.507117  [44832/50000]\n",
      "loss: 1.688811  [48032/50000]\n",
      "Validation loss: 1.6471, Accuracy: 42.58%\n",
      "\n",
      "Test Error: \n",
      " Accuracy: 43.2%, Avg loss: 1.653171 \n",
      "\n",
      "Done!\n"
     ]
    }
   ],
   "source": [
    "epochs = 5\n",
    "for t in range(epochs):\n",
    "    print(f\"Epoch {t+1}\\n-------------------------------\")\n",
    "    train(train_dataloader, model, loss_fn, optimizer)\n",
    "    val(val_dataloader, model, loss_fn)\n",
    "    test(test_dataloader, model, loss_fn)\n",
    "print(\"Done!\")\n",
    "\n"
   ]
  },
  {
   "cell_type": "code",
   "execution_count": null,
   "metadata": {
    "id": "ZYCMfwL-PKUO"
   },
   "outputs": [],
   "source": [
    "torch.save(model.state_dict(), \"model.pth\")\n",
    "print(\"Saved PyTorch Model State to model.pth\")"
   ]
  },
  {
   "cell_type": "code",
   "execution_count": null,
   "metadata": {
    "id": "8AHOnxpfsP24"
   },
   "outputs": [],
   "source": [
    "model = NeuralNetwork().to(device)\n",
    "model.load_state_dict(torch.load(\"model.pth\"))"
   ]
  },
  {
   "cell_type": "code",
   "execution_count": 40,
   "metadata": {
    "id": "lwXs10dusPze"
   },
   "outputs": [
    {
     "name": "stdout",
     "output_type": "stream",
     "text": [
      "Predicted: \"garbage truck\", Actual: \"French horn\"\n"
     ]
    }
   ],
   "source": [
    "classes = [\n",
    "    \"tench\",\n",
    "    \"English springer\",\n",
    "    \"cassette player\",\n",
    "    \"chain saw\",\n",
    "    \"church\",\n",
    "    \"French horn\",\n",
    "    \"garbage truck\",\n",
    "    \"gas pump\",\n",
    "    \"golf ball\",\n",
    "    \"parachute\",\n",
    "]\n",
    "\n",
    "\n",
    "\n",
    "\n",
    "model.eval()\n",
    "x, y = test_dataset[0][0], test_dataset[0][1]\n",
    "with torch.no_grad():\n",
    "    x = x.unsqueeze(0).to(device)\n",
    "    pred = model(x)\n",
    "    predicted = classes[pred[0].argmax(0)]\n",
    "    actual = classes[y]\n",
    "    print(f'Predicted: \"{predicted}\", Actual: \"{actual}\"')"
   ]
  },
  {
   "cell_type": "code",
   "execution_count": null,
   "metadata": {
    "id": "JXE5Ht3WsPvG"
   },
   "outputs": [],
   "source": []
  },
  {
   "cell_type": "code",
   "execution_count": null,
   "metadata": {
    "id": "G0jNhDrWsPg6"
   },
   "outputs": [],
   "source": []
  }
 ],
 "metadata": {
  "colab": {
   "authorship_tag": "ABX9TyNrn4LpE5c/D3N0PK316zis",
   "provenance": []
  },
  "kernelspec": {
   "display_name": "Python 3 (ipykernel)",
   "language": "python",
   "name": "python3"
  },
  "language_info": {
   "codemirror_mode": {
    "name": "ipython",
    "version": 3
   },
   "file_extension": ".py",
   "mimetype": "text/x-python",
   "name": "python",
   "nbconvert_exporter": "python",
   "pygments_lexer": "ipython3",
   "version": "3.12.11"
  }
 },
 "nbformat": 4,
 "nbformat_minor": 4
}
