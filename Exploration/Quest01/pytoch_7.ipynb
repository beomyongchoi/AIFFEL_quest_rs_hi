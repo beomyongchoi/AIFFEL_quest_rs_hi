{
 "cells": [
  {
   "cell_type": "code",
   "execution_count": 1,
   "metadata": {
    "colab": {
     "base_uri": "https://localhost:8080/"
    },
    "executionInfo": {
     "elapsed": 21295,
     "status": "ok",
     "timestamp": 1753609748680,
     "user": {
      "displayName": "김형일",
      "userId": "09633833925626345996"
     },
     "user_tz": -540
    },
    "id": "2ZAa0lrwZqP5",
    "outputId": "6c50c246-af9c-4b1a-e085-7a6ab2551ea5"
   },
   "outputs": [
    {
     "name": "stdout",
     "output_type": "stream",
     "text": [
      "Mounted at /content/drive\n"
     ]
    }
   ],
   "source": [
    "from google.colab import drive\n",
    "drive.mount('/content/drive')"
   ]
  },
  {
   "cell_type": "code",
   "execution_count": null,
   "metadata": {
    "colab": {
     "base_uri": "https://localhost:8080/"
    },
    "executionInfo": {
     "elapsed": 1687,
     "status": "ok",
     "timestamp": 1753609761806,
     "user": {
      "displayName": "김형일",
      "userId": "09633833925626345996"
     },
     "user_tz": -540
    },
    "id": "5Op9IL8yZ5E-",
    "outputId": "ba21049c-d1a8-47fa-8d22-af63ce42f7df"
   },
   "outputs": [],
   "source": [
    "%cd /content/drive/MyDrive/AIFFEL_quest_rs/Exploration/Quest01/\n",
    "!ls"
   ]
  },
  {
   "cell_type": "code",
   "execution_count": 1,
   "metadata": {
    "id": "tXFFTs7lXrgA"
   },
   "outputs": [
    {
     "name": "stdout",
     "output_type": "stream",
     "text": [
      "/home/jovyan/work/workplace/AIFFEL_quest_rs/Exploration/Quest01\n"
     ]
    }
   ],
   "source": [
    "!pwd"
   ]
  },
  {
   "cell_type": "code",
   "execution_count": null,
   "metadata": {
    "colab": {
     "base_uri": "https://localhost:8080/"
    },
    "executionInfo": {
     "elapsed": 9755,
     "status": "ok",
     "timestamp": 1753407581431,
     "user": {
      "displayName": "김형일",
      "userId": "09633833925626345996"
     },
     "user_tz": -540
    },
    "id": "5WwEfVVgc_5N",
    "outputId": "32b8876d-5917-458d-b25d-3d64918681b8"
   },
   "outputs": [
    {
     "name": "stdout",
     "output_type": "stream",
     "text": [
      "From https://github.com/nagujean/AIFFEL_quest_rs\n",
      " * branch            main       -> FETCH_HEAD\n",
      "Auto packing the repository in background for optimum performance.\n",
      "See \"git help gc\" for manual housekeeping.\n",
      "warning: The last gc run reported the following. Please correct the root cause\n",
      "and remove .git/gc.log\n",
      "Automatic cleanup will not be performed until the file is removed.\n",
      "\n",
      "warning: There are too many unreachable loose objects; run 'git prune' to remove them.\n",
      "\n",
      "Already up to date.\n"
     ]
    }
   ],
   "source": [
    "!git pull origin main"
   ]
  },
  {
   "cell_type": "code",
   "execution_count": 24,
   "metadata": {
    "colab": {
     "base_uri": "https://localhost:8080/"
    },
    "executionInfo": {
     "elapsed": 1117,
     "status": "ok",
     "timestamp": 1753609765342,
     "user": {
      "displayName": "김형일",
      "userId": "09633833925626345996"
     },
     "user_tz": -540
    },
    "id": "WMq5kdVVFYhT",
    "outputId": "37f295a7-b8f8-4bce-9d97-206c1c7b2658"
   },
   "outputs": [],
   "source": [
    "!git add ."
   ]
  },
  {
   "cell_type": "code",
   "execution_count": 2,
   "metadata": {
    "id": "HN_-_4mVFvEK"
   },
   "outputs": [],
   "source": [
    "  !git config --global user.email \"nagujean@gmail.com\"\n",
    "  !git config --global user.name \"nagujean\""
   ]
  },
  {
   "cell_type": "code",
   "execution_count": 25,
   "metadata": {
    "colab": {
     "base_uri": "https://localhost:8080/"
    },
    "executionInfo": {
     "elapsed": 19688,
     "status": "ok",
     "timestamp": 1753406243738,
     "user": {
      "displayName": "김형일",
      "userId": "09633833925626345996"
     },
     "user_tz": -540
    },
    "id": "iFM2Q2KOFfS9",
    "outputId": "53bca6e3-b6a0-4007-c281-800f40f2e95a"
   },
   "outputs": [
    {
     "name": "stdout",
     "output_type": "stream",
     "text": [
      "[main c33f504] commit\n",
      " 2 files changed, 1332 insertions(+), 24 deletions(-)\n",
      " create mode 100644 Exploration/Quest01/.ipynb_checkpoints/pytorch_1-checkpoint.ipynb\n"
     ]
    }
   ],
   "source": [
    "!git commit -m \"commit\""
   ]
  },
  {
   "cell_type": "code",
   "execution_count": null,
   "metadata": {
    "colab": {
     "base_uri": "https://localhost:8080/"
    },
    "executionInfo": {
     "elapsed": 1111,
     "status": "ok",
     "timestamp": 1753406278134,
     "user": {
      "displayName": "김형일",
      "userId": "09633833925626345996"
     },
     "user_tz": -540
    },
    "id": "DDsPOZ5YF9ub",
    "outputId": "2752b921-6cb5-4b95-ae34-6295de2426ec"
   },
   "outputs": [
    {
     "name": "stdout",
     "output_type": "stream",
     "text": [
      "Username for 'https://github.com': "
     ]
    }
   ],
   "source": [
    "!git push origin main"
   ]
  },
  {
   "cell_type": "code",
   "execution_count": 23,
   "metadata": {},
   "outputs": [],
   "source": [
    "!rm -rf \"/home/jovyan/work/workplace/AIFFEL_quest_rs/Exploration/Quest01/C:/Users/KHI/Desktop/mldata\""
   ]
  },
  {
   "cell_type": "code",
   "execution_count": 9,
   "metadata": {
    "id": "GxVUwxR8PKys"
   },
   "outputs": [],
   "source": [
    "import torch\n",
    "import os\n",
    "from torch import nn, optim\n",
    "from torch.nn import functional as F\n",
    "from torch.utils.data import DataLoader\n",
    "from torchvision import datasets, transforms, models\n",
    "from torch.utils.data import random_split"
   ]
  },
  {
   "cell_type": "code",
   "execution_count": 14,
   "metadata": {},
   "outputs": [
    {
     "name": "stdout",
     "output_type": "stream",
     "text": [
      "1. 현재 주피터 노트북의 작업 디렉토리 (os.getcwd()): /home/jovyan/work/workplace/AIFFEL_quest_rs/Exploration/Quest01\n"
     ]
    }
   ],
   "source": [
    "current_working_directory = os.getcwd()\n",
    "print(f\"1. 현재 주피터 노트북의 작업 디렉토리 (os.getcwd()): {current_working_directory}\")"
   ]
  },
  {
   "cell_type": "code",
   "execution_count": null,
   "metadata": {},
   "outputs": [],
   "source": []
  },
  {
   "cell_type": "code",
   "execution_count": 19,
   "metadata": {
    "colab": {
     "base_uri": "https://localhost:8080/"
    },
    "executionInfo": {
     "elapsed": 132,
     "status": "ok",
     "timestamp": 1753420946979,
     "user": {
      "displayName": "김형일",
      "userId": "09633833925626345996"
     },
     "user_tz": -540
    },
    "id": "WfAEzTCgqpg9",
    "outputId": "aadcca2b-c1cf-4e09-f003-224117097e60"
   },
   "outputs": [
    {
     "name": "stderr",
     "output_type": "stream",
     "text": [
      "100%|██████████| 170M/170M [00:10<00:00, 15.5MB/s] \n"
     ]
    },
    {
     "name": "stdout",
     "output_type": "stream",
     "text": [
      "10000\n",
      "5000\n",
      "5000\n"
     ]
    }
   ],
   "source": [
    "target_dataset_dir = os.path.abspath(os.path.join(os.getcwd(), \"../../../datasets/mldata\")) \n",
    "\n",
    "\n",
    "transform = transforms.Compose([\n",
    "    transforms.Resize((32, 32)),\n",
    "    transforms.ToTensor(),\n",
    "    transforms.Normalize(mean=[0.485, 0.456, 0.406], std=[0.229, 0.224, 0.225])\n",
    "])\n",
    "\n",
    "\n",
    "train_dataset = datasets.CIFAR10(root=target_dataset_dir, train=True, download=True, transform=transform)\n",
    "val_dataset = datasets.CIFAR10(root=target_dataset_dir, train=False, download=True, transform=transform)\n",
    "\n",
    "val_size = len(val_dataset)\n",
    "print(val_size)\n",
    "test_size = val_size // 2\n",
    "print(test_size)\n",
    "new_val_size = val_size - test_size\n",
    "print(new_val_size)\n",
    "\n",
    "val_dataset, test_dataset = random_split(val_dataset, [new_val_size, test_size], generator=torch.Generator().manual_seed(2025))\n",
    "\n",
    "train_dataloader = DataLoader(train_dataset, batch_size=32, shuffle=True)\n",
    "val_dataloader = DataLoader(val_dataset, batch_size=32, shuffle=True)\n",
    "test_dataloader = DataLoader(test_dataset, batch_size=32, shuffle=True)"
   ]
  },
  {
   "cell_type": "code",
   "execution_count": 18,
   "metadata": {},
   "outputs": [
    {
     "name": "stdout",
     "output_type": "stream",
     "text": [
      "현재 파이썬 코드가 사용하는 데이터셋 저장 경로: /home/jovyan/work/workplace/datasets/mldata\n"
     ]
    }
   ],
   "source": [
    "print(f\"현재 파이썬 코드가 사용하는 데이터셋 저장 경로: {target_dataset_dir}\")"
   ]
  },
  {
   "cell_type": "code",
   "execution_count": null,
   "metadata": {
    "colab": {
     "base_uri": "https://localhost:8080/"
    },
    "executionInfo": {
     "elapsed": 9073,
     "status": "ok",
     "timestamp": 1753420956051,
     "user": {
      "displayName": "김형일",
      "userId": "09633833925626345996"
     },
     "user_tz": -540
    },
    "id": "DKXNxYM05rst",
    "outputId": "6494e6a1-0b89-45b9-e2f6-70d70f85dd93"
   },
   "outputs": [
    {
     "name": "stdout",
     "output_type": "stream",
     "text": [
      "Shape of X [N, C, H, W]: torch.Size([32, 3, 224, 224])\n",
      "Shape of y: torch.Size([32]) torch.int64\n"
     ]
    }
   ],
   "source": [
    "for X, y in test_dataloader:\n",
    "    print(f\"Shape of X [N, C, H, W]: {X.shape}\")\n",
    "    print(f\"Shape of y: {y.shape} {y.dtype}\")\n",
    "    break"
   ]
  },
  {
   "cell_type": "code",
   "execution_count": null,
   "metadata": {
    "id": "a4-FYkfAuKpF"
   },
   "outputs": [],
   "source": []
  },
  {
   "cell_type": "code",
   "execution_count": null,
   "metadata": {
    "colab": {
     "base_uri": "https://localhost:8080/"
    },
    "executionInfo": {
     "elapsed": 678,
     "status": "ok",
     "timestamp": 1753420956737,
     "user": {
      "displayName": "김형일",
      "userId": "09633833925626345996"
     },
     "user_tz": -540
    },
    "id": "nuskXIqOPKqM",
    "outputId": "1e2070ef-58dd-4c1a-c21b-7c1ae5639f88"
   },
   "outputs": [
    {
     "name": "stdout",
     "output_type": "stream",
     "text": [
      "Using cuda device\n",
      "NeuralNetwork(\n",
      "  (flatten): Flatten(start_dim=1, end_dim=-1)\n",
      "  (linear_relu_stack): Sequential(\n",
      "    (0): Linear(in_features=150528, out_features=512, bias=True)\n",
      "    (1): ReLU()\n",
      "    (2): Linear(in_features=512, out_features=512, bias=True)\n",
      "    (3): ReLU()\n",
      "    (4): Linear(in_features=512, out_features=10, bias=True)\n",
      "  )\n",
      ")\n"
     ]
    }
   ],
   "source": [
    "# 학습에 사용할 CPU나 GPU, MPS 장치를 얻습니다.\n",
    "device = (\n",
    "    \"cuda\"\n",
    "    if torch.cuda.is_available()\n",
    "    else \"mps\"\n",
    "    if torch.backends.mps.is_available()\n",
    "    else \"cpu\"\n",
    ")\n",
    "print(f\"Using {device} device\")\n",
    "\n",
    "# 모델을 정의합니다.\n",
    "class NeuralNetwork(nn.Module):\n",
    "    def __init__(self):\n",
    "        super().__init__()\n",
    "        self.flatten = nn.Flatten()\n",
    "        self.linear_relu_stack = nn.Sequential(\n",
    "            nn.Linear(3*224*224, 512),\n",
    "            nn.ReLU(),\n",
    "            nn.Linear(512, 512),\n",
    "            nn.ReLU(),\n",
    "            nn.Linear(512, 10)\n",
    "        )\n",
    "\n",
    "    def forward(self, x):\n",
    "        x = self.flatten(x)\n",
    "        logits = self.linear_relu_stack(x)\n",
    "        return logits\n",
    "\n",
    "model = NeuralNetwork().to(device)\n",
    "print(model)"
   ]
  },
  {
   "cell_type": "code",
   "execution_count": null,
   "metadata": {
    "id": "lTozvF5iPKld"
   },
   "outputs": [],
   "source": [
    "loss_fn = nn.CrossEntropyLoss()\n",
    "optimizer = torch.optim.SGD(model.parameters(), lr=1e-3)"
   ]
  },
  {
   "cell_type": "code",
   "execution_count": null,
   "metadata": {
    "id": "KrEq0dG2sjEP"
   },
   "outputs": [],
   "source": [
    "def train(dataloader, model, loss_fn, optimizer):\n",
    "    size = len(dataloader.dataset)\n",
    "    for batch, (X, y) in enumerate(dataloader):\n",
    "        X, y = X.to(device), y.to(device)\n",
    "\n",
    "        # 예측 오류 계산\n",
    "        pred = model(X)\n",
    "        loss = loss_fn(pred, y)\n",
    "\n",
    "        # 역전파\n",
    "        loss.backward()\n",
    "        optimizer.step()\n",
    "        optimizer.zero_grad()\n",
    "\n",
    "        if batch % 100 == 0:\n",
    "            loss, current = loss.item(), (batch + 1) * len(X)\n",
    "            print(f\"loss: {loss:>7f}  [{current:>5d}/{size:>5d}]\")"
   ]
  },
  {
   "cell_type": "code",
   "execution_count": null,
   "metadata": {
    "id": "uzHwV3bwsABn"
   },
   "outputs": [],
   "source": [
    "def val(dataloader, model, loss_fn):\n",
    "    model.eval()\n",
    "    val_loss = 0\n",
    "    correct = 0\n",
    "    total = 0\n",
    "\n",
    "    with torch.no_grad():\n",
    "        for X, y in dataloader:\n",
    "            X, y = X.to(device), y.to(device)\n",
    "            pred = model(X)\n",
    "            val_loss += loss_fn(pred, y).item()\n",
    "\n",
    "            correct += (pred.argmax(1) == y).sum().item()\n",
    "            total += y.size(0)\n",
    "\n",
    "    avg_loss = val_loss / len(dataloader)\n",
    "    accuracy = correct / total * 100\n",
    "    print(f\"Validation loss: {avg_loss:.4f}, Accuracy: {accuracy:.2f}%\\n\")"
   ]
  },
  {
   "cell_type": "code",
   "execution_count": null,
   "metadata": {
    "id": "7dKQ_yB5PKf9"
   },
   "outputs": [],
   "source": [
    "def test(dataloader, model, loss_fn):\n",
    "    size = len(dataloader.dataset)\n",
    "    num_batches = len(dataloader)\n",
    "    model.eval()\n",
    "    test_loss, correct = 0, 0\n",
    "    with torch.no_grad():\n",
    "        for X, y in dataloader:\n",
    "            X, y = X.to(device), y.to(device)\n",
    "            pred = model(X)\n",
    "            test_loss += loss_fn(pred, y).item()\n",
    "            correct += (pred.argmax(1) == y).type(torch.float).sum().item()\n",
    "    test_loss /= num_batches\n",
    "    correct /= size\n",
    "    print(f\"Test Error: \\n Accuracy: {(100*correct):>0.1f}%, Avg loss: {test_loss:>8f} \\n\")"
   ]
  },
  {
   "cell_type": "code",
   "execution_count": null,
   "metadata": {
    "colab": {
     "base_uri": "https://localhost:8080/"
    },
    "id": "9tG13uxaPKc1",
    "outputId": "8f9b048c-9517-4bd2-f008-09137e671b6d"
   },
   "outputs": [
    {
     "name": "stdout",
     "output_type": "stream",
     "text": [
      "Epoch 1\n",
      "-------------------------------\n",
      "loss: 2.273432  [   32/ 9469]\n",
      "loss: 1.845385  [ 3232/ 9469]\n",
      "loss: 1.892853  [ 6432/ 9469]\n",
      "Validation loss: 1.8080, Accuracy: 40.04%\n",
      "\n",
      "Test Error: \n",
      " Accuracy: 38.1%, Avg loss: 1.798778 \n",
      "\n",
      "Epoch 2\n",
      "-------------------------------\n",
      "loss: 1.681618  [   32/ 9469]\n",
      "loss: 1.675129  [ 3232/ 9469]\n",
      "loss: 1.717267  [ 6432/ 9469]\n",
      "Validation loss: 1.7182, Accuracy: 41.16%\n",
      "\n",
      "Test Error: \n",
      " Accuracy: 41.3%, Avg loss: 1.724608 \n",
      "\n",
      "Epoch 3\n",
      "-------------------------------\n",
      "loss: 1.554750  [   32/ 9469]\n",
      "loss: 1.328110  [ 3232/ 9469]\n",
      "loss: 1.568715  [ 6432/ 9469]\n",
      "Validation loss: 1.6810, Accuracy: 43.66%\n",
      "\n",
      "Test Error: \n",
      " Accuracy: 43.0%, Avg loss: 1.683282 \n",
      "\n",
      "Epoch 4\n",
      "-------------------------------\n",
      "loss: 1.507005  [   32/ 9469]\n",
      "loss: 1.533525  [ 3232/ 9469]\n",
      "loss: 1.608364  [ 6432/ 9469]\n",
      "Validation loss: 1.6453, Accuracy: 44.68%\n",
      "\n",
      "Test Error: \n",
      " Accuracy: 44.6%, Avg loss: 1.645028 \n",
      "\n",
      "Epoch 5\n",
      "-------------------------------\n",
      "loss: 1.231570  [   32/ 9469]\n",
      "loss: 1.698684  [ 3232/ 9469]\n",
      "loss: 1.065366  [ 6432/ 9469]\n",
      "Validation loss: 1.6309, Accuracy: 45.13%\n",
      "\n",
      "Test Error: \n",
      " Accuracy: 46.1%, Avg loss: 1.630306 \n",
      "\n",
      "Epoch 6\n",
      "-------------------------------\n",
      "loss: 1.228664  [   32/ 9469]\n",
      "loss: 1.060653  [ 3232/ 9469]\n",
      "loss: 1.335228  [ 6432/ 9469]\n",
      "Validation loss: 1.6122, Accuracy: 45.75%\n",
      "\n"
     ]
    }
   ],
   "source": [
    "epochs = 50\n",
    "for t in range(epochs):\n",
    "    print(f\"Epoch {t+1}\\n-------------------------------\")\n",
    "    train(train_dataloader, model, loss_fn, optimizer)\n",
    "    val(val_dataloader, model, loss_fn)\n",
    "    test(test_dataloader, model, loss_fn)\n",
    "print(\"Done!\")\n",
    "\n"
   ]
  },
  {
   "cell_type": "code",
   "execution_count": null,
   "metadata": {
    "id": "ZYCMfwL-PKUO"
   },
   "outputs": [],
   "source": [
    "torch.save(model.state_dict(), \"model.pth\")\n",
    "print(\"Saved PyTorch Model State to model.pth\")"
   ]
  },
  {
   "cell_type": "code",
   "execution_count": null,
   "metadata": {
    "id": "8AHOnxpfsP24"
   },
   "outputs": [],
   "source": [
    "model = NeuralNetwork().to(device)\n",
    "model.load_state_dict(torch.load(\"model.pth\"))"
   ]
  },
  {
   "cell_type": "code",
   "execution_count": null,
   "metadata": {
    "id": "lwXs10dusPze"
   },
   "outputs": [],
   "source": [
    "classes = [\n",
    "    \"tench\",\n",
    "    \"English springer\",\n",
    "    \"cassette player\",\n",
    "    \"chain saw\",\n",
    "    \"church\",\n",
    "    \"French horn\",\n",
    "    \"garbage truck\",\n",
    "    \"gas pump\",\n",
    "    \"golf ball\",\n",
    "    \"parachute\",\n",
    "]\n",
    "\n",
    "\n",
    "\n",
    "\n",
    "model.eval()\n",
    "x, y = test_dataset[0][0], test_dataset[0][1]\n",
    "with torch.no_grad():\n",
    "    x = x.to(device)\n",
    "    pred = model(x)\n",
    "    predicted, actual = classes[pred[0].argmax(0)], classes[y]\n",
    "    print(f'Predicted: \"{predicted}\", Actual: \"{actual}\"')"
   ]
  },
  {
   "cell_type": "code",
   "execution_count": null,
   "metadata": {
    "id": "JXE5Ht3WsPvG"
   },
   "outputs": [],
   "source": []
  },
  {
   "cell_type": "code",
   "execution_count": null,
   "metadata": {
    "id": "G0jNhDrWsPg6"
   },
   "outputs": [],
   "source": []
  }
 ],
 "metadata": {
  "colab": {
   "authorship_tag": "ABX9TyNrn4LpE5c/D3N0PK316zis",
   "provenance": []
  },
  "kernelspec": {
   "display_name": "Python 3 (ipykernel)",
   "language": "python",
   "name": "python3"
  },
  "language_info": {
   "codemirror_mode": {
    "name": "ipython",
    "version": 3
   },
   "file_extension": ".py",
   "mimetype": "text/x-python",
   "name": "python",
   "nbconvert_exporter": "python",
   "pygments_lexer": "ipython3",
   "version": "3.12.11"
  }
 },
 "nbformat": 4,
 "nbformat_minor": 4
}
