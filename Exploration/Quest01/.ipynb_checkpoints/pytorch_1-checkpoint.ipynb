{
 "cells": [
  {
   "cell_type": "code",
   "execution_count": 4,
   "id": "cfaa489c-e21f-484b-a411-3889f792ef3d",
   "metadata": {},
   "outputs": [
    {
     "name": "stdout",
     "output_type": "stream",
     "text": [
      "2.7.1+cpu\n",
      "False\n",
      "False\n"
     ]
    }
   ],
   "source": [
    "import torch\n",
    "\n",
    "print(torch.__version__)\n",
    "print(torch.backends.mps.is_built())\n",
    "print(torch.backends.mps.is_available())"
   ]
  },
  {
   "cell_type": "code",
   "execution_count": 8,
   "id": "39c6bbf4-0291-4e47-812e-b538b2c2428e",
   "metadata": {},
   "outputs": [],
   "source": [
    "import torch\n",
    "from torch import nn\n",
    "from torch import optim"
   ]
  },
  {
   "cell_type": "code",
   "execution_count": 9,
   "id": "cf180544-f12a-48f8-949b-4850db4fdde6",
   "metadata": {},
   "outputs": [],
   "source": [
    "x = torch.FloatTensor([\n",
    "    [1], [2], [3], [4], [5], [6], [7], [8], [9], [10],\n",
    "    [11], [12], [13], [14], [15], [16], [17], [18], [19], [20],\n",
    "    [21], [22], [23], [24], [25], [26], [27], [28], [29], [30]\n",
    "])\n",
    "y = torch.FloatTensor([\n",
    "    [0.94], [1.98], [2.88], [3.92], [3.96], [4.55], [5.64], [6.3], [7.44], [9.1],\n",
    "    [8.46], [9.5], [10.67], [11.16], [14], [11.83], [14.4], [14.25], [16.2], [16.32],\n",
    "    [17.46], [19.8], [18], [21.34], [22], [22.5], [24.57], [26.04], [21.6], [28.8]\n",
    "])"
   ]
  },
  {
   "cell_type": "code",
   "execution_count": 10,
   "id": "4ab27d4a-0948-46ad-9b21-9a1145e26c35",
   "metadata": {},
   "outputs": [],
   "source": [
    "model = nn.Linear(1, 1)\n",
    "criterion = nn.MSELoss()\n",
    "optimizer = optim.SGD(model.parameters(), lr=0.001)"
   ]
  },
  {
   "cell_type": "code",
   "execution_count": 11,
   "id": "09d309d7-146b-4cf3-9674-5a1129d31d87",
   "metadata": {},
   "outputs": [
    {
     "name": "stdout",
     "output_type": "stream",
     "text": [
      "Epoch : 1000, Model : [Parameter containing:\n",
      "tensor([[0.8819]], requires_grad=True), Parameter containing:\n",
      "tensor([-0.4973], requires_grad=True)], Cost : 1.373\n",
      "Epoch : 2000, Model : [Parameter containing:\n",
      "tensor([[0.8808]], requires_grad=True), Parameter containing:\n",
      "tensor([-0.4741], requires_grad=True)], Cost : 1.373\n",
      "Epoch : 3000, Model : [Parameter containing:\n",
      "tensor([[0.8801]], requires_grad=True), Parameter containing:\n",
      "tensor([-0.4597], requires_grad=True)], Cost : 1.372\n",
      "Epoch : 4000, Model : [Parameter containing:\n",
      "tensor([[0.8796]], requires_grad=True), Parameter containing:\n",
      "tensor([-0.4507], requires_grad=True)], Cost : 1.372\n",
      "Epoch : 5000, Model : [Parameter containing:\n",
      "tensor([[0.8794]], requires_grad=True), Parameter containing:\n",
      "tensor([-0.4451], requires_grad=True)], Cost : 1.372\n",
      "Epoch : 6000, Model : [Parameter containing:\n",
      "tensor([[0.8792]], requires_grad=True), Parameter containing:\n",
      "tensor([-0.4417], requires_grad=True)], Cost : 1.372\n",
      "Epoch : 7000, Model : [Parameter containing:\n",
      "tensor([[0.8791]], requires_grad=True), Parameter containing:\n",
      "tensor([-0.4395], requires_grad=True)], Cost : 1.372\n",
      "Epoch : 8000, Model : [Parameter containing:\n",
      "tensor([[0.8790]], requires_grad=True), Parameter containing:\n",
      "tensor([-0.4381], requires_grad=True)], Cost : 1.372\n",
      "Epoch : 9000, Model : [Parameter containing:\n",
      "tensor([[0.8790]], requires_grad=True), Parameter containing:\n",
      "tensor([-0.4373], requires_grad=True)], Cost : 1.372\n",
      "Epoch : 10000, Model : [Parameter containing:\n",
      "tensor([[0.8789]], requires_grad=True), Parameter containing:\n",
      "tensor([-0.4368], requires_grad=True)], Cost : 1.372\n"
     ]
    }
   ],
   "source": [
    "for epoch in range(10000):\n",
    "    output = model(x)\n",
    "    cost = criterion(output, y)\n",
    "\n",
    "    optimizer.zero_grad()\n",
    "    cost.backward()\n",
    "    optimizer.step()\n",
    "\n",
    "    if (epoch + 1) % 1000 == 0:\n",
    "        print(f\"Epoch : {epoch+1:4d}, Model : {list(model.parameters())}, Cost : {cost:.3f}\")"
   ]
  },
  {
   "cell_type": "code",
   "execution_count": null,
   "id": "80a4dcdd-4e6b-4866-826a-8d92298654ae",
   "metadata": {},
   "outputs": [],
   "source": [
    "#데이터 세트와 데이터 로더"
   ]
  },
  {
   "cell_type": "code",
   "execution_count": 18,
   "id": "d1cfbe6b-2b82-4384-a884-83fa161493cc",
   "metadata": {},
   "outputs": [],
   "source": [
    "import torch\n",
    "from torch import nn\n",
    "from torch import optim\n",
    "from torch.utils.data import TensorDataset, DataLoader \n",
    " #데이터 세트와 데이터 로더는 torch.utils.data 모듈에 있다 \n",
    "\n",
    "train_x = torch.FloatTensor([\n",
    "    [1, 2], [2, 3], [3, 4], [4, 5], [5, 6], [6, 7]\n",
    "])\n",
    "train_y = torch.FloatTensor([\n",
    "    [0.1, 1.5], [1, 2.8], [1.9, 4.1], [2.8, 5.4], [3.7, 6.7], [4.6, 8]\n",
    "])"
   ]
  },
  {
   "cell_type": "code",
   "execution_count": 19,
   "id": "97888055-b2f1-4a38-b1d4-c60f7659f16a",
   "metadata": {},
   "outputs": [],
   "source": [
    "#데이터 세트와 데이터 로더 적용\n",
    "train_dataset = TensorDataset(train_x, train_y)\n",
    "train_dataloader = DataLoader(train_dataset, batch_size=2, shuffle=True, drop_last=True)\n",
    "#배치크기 2 데이터순서 변경 셔플, 배치제거를 통해 배치크기에 맞지 않는 배치는 제거한다"
   ]
  },
  {
   "cell_type": "code",
   "execution_count": 20,
   "id": "edf4b121-b600-43c2-99ec-9c6d22047cbc",
   "metadata": {},
   "outputs": [],
   "source": [
    "#모델, 오차함수, 최적화(optimizer) 함수 정의\n",
    "model = nn.Linear(2, 2, bias=False)\n",
    "criterion = nn.MSELoss()\n",
    "optimizer = optim.SGD(model.parameters(), lr=0.001)\n",
    "#다중 선형 회귀도 선형 변환 클래스 , \n"
   ]
  },
  {
   "cell_type": "code",
   "execution_count": 21,
   "id": "9bffb789-914d-488e-8757-e5da29188f78",
   "metadata": {},
   "outputs": [
    {
     "name": "stdout",
     "output_type": "stream",
     "text": [
      "Epoch : 1000, Model : [Parameter containing:\n",
      "tensor([[ 1.0468, -0.2718],\n",
      "        [ 0.5424,  0.6508]], requires_grad=True)], Cost : 0.047\n",
      "Epoch : 2000, Model : [Parameter containing:\n",
      "tensor([[ 1.1808, -0.3802],\n",
      "        [ 0.6568,  0.5583]], requires_grad=True)], Cost : 0.030\n",
      "Epoch : 3000, Model : [Parameter containing:\n",
      "tensor([[ 1.2874, -0.4663],\n",
      "        [ 0.7478,  0.4848]], requires_grad=True)], Cost : 0.019\n",
      "Epoch : 4000, Model : [Parameter containing:\n",
      "tensor([[ 1.3721, -0.5348],\n",
      "        [ 0.8202,  0.4264]], requires_grad=True)], Cost : 0.012\n",
      "Epoch : 5000, Model : [Parameter containing:\n",
      "tensor([[ 1.4394, -0.5893],\n",
      "        [ 0.8775,  0.3798]], requires_grad=True)], Cost : 0.007\n",
      "Epoch : 6000, Model : [Parameter containing:\n",
      "tensor([[ 1.4929, -0.6325],\n",
      "        [ 0.9233,  0.3430]], requires_grad=True)], Cost : 0.005\n",
      "Epoch : 7000, Model : [Parameter containing:\n",
      "tensor([[ 1.5354, -0.6669],\n",
      "        [ 0.9595,  0.3136]], requires_grad=True)], Cost : 0.003\n",
      "Epoch : 8000, Model : [Parameter containing:\n",
      "tensor([[ 1.5692, -0.6942],\n",
      "        [ 0.9884,  0.2903]], requires_grad=True)], Cost : 0.002\n",
      "Epoch : 9000, Model : [Parameter containing:\n",
      "tensor([[ 1.5960, -0.7159],\n",
      "        [ 1.0113,  0.2718]], requires_grad=True)], Cost : 0.001\n",
      "Epoch : 10000, Model : [Parameter containing:\n",
      "tensor([[ 1.6174, -0.7332],\n",
      "        [ 1.0295,  0.2570]], requires_grad=True)], Cost : 0.001\n",
      "Epoch : 11000, Model : [Parameter containing:\n",
      "tensor([[ 1.6343, -0.7469],\n",
      "        [ 1.0439,  0.2453]], requires_grad=True)], Cost : 0.000\n",
      "Epoch : 12000, Model : [Parameter containing:\n",
      "tensor([[ 1.6478, -0.7578],\n",
      "        [ 1.0555,  0.2360]], requires_grad=True)], Cost : 0.000\n",
      "Epoch : 13000, Model : [Parameter containing:\n",
      "tensor([[ 1.6585, -0.7665],\n",
      "        [ 1.0646,  0.2286]], requires_grad=True)], Cost : 0.000\n",
      "Epoch : 14000, Model : [Parameter containing:\n",
      "tensor([[ 1.6670, -0.7733],\n",
      "        [ 1.0719,  0.2228]], requires_grad=True)], Cost : 0.000\n",
      "Epoch : 15000, Model : [Parameter containing:\n",
      "tensor([[ 1.6738, -0.7788],\n",
      "        [ 1.0776,  0.2181]], requires_grad=True)], Cost : 0.000\n",
      "Epoch : 16000, Model : [Parameter containing:\n",
      "tensor([[ 1.6792, -0.7832],\n",
      "        [ 1.0822,  0.2144]], requires_grad=True)], Cost : 0.000\n",
      "Epoch : 17000, Model : [Parameter containing:\n",
      "tensor([[ 1.6835, -0.7866],\n",
      "        [ 1.0859,  0.2114]], requires_grad=True)], Cost : 0.000\n",
      "Epoch : 18000, Model : [Parameter containing:\n",
      "tensor([[ 1.6869, -0.7894],\n",
      "        [ 1.0888,  0.2091]], requires_grad=True)], Cost : 0.000\n",
      "Epoch : 19000, Model : [Parameter containing:\n",
      "tensor([[ 1.6896, -0.7915],\n",
      "        [ 1.0911,  0.2072]], requires_grad=True)], Cost : 0.000\n",
      "Epoch : 20000, Model : [Parameter containing:\n",
      "tensor([[ 1.6917, -0.7933],\n",
      "        [ 1.0929,  0.2057]], requires_grad=True)], Cost : 0.000\n"
     ]
    }
   ],
   "source": [
    "#데이터 로더 적용\n",
    "for epoch in range(20000):\n",
    "    cost = 0.0 #에포크 마다 오차를 다시 계산하기 위해 0\n",
    "    \n",
    "    for batch in train_dataloader:\n",
    "        x, y = batch\n",
    "        output = model(x)\n",
    "        \n",
    "        loss = criterion(output, y)\n",
    "        \n",
    "        optimizer.zero_grad()\n",
    "        loss.backward()\n",
    "        optimizer.step()\n",
    "        \n",
    "        cost += loss\n",
    "\n",
    "    cost = cost / len(train_dataloader)\n",
    "    \n",
    "    if (epoch + 1) % 1000 == 0:\n",
    "        print(f\"Epoch : {epoch+1:4d}, Model : {list(model.parameters())}, Cost : {cost:.3f}\")"
   ]
  },
  {
   "cell_type": "code",
   "execution_count": null,
   "id": "cee5e44a-c18a-4137-a433-6f492dedb023",
   "metadata": {},
   "outputs": [],
   "source": []
  },
  {
   "cell_type": "code",
   "execution_count": null,
   "id": "b663ea35-7851-4bf6-88d4-c3903f3f7d00",
   "metadata": {},
   "outputs": [],
   "source": [
    "# 비선형 회귀 (모듈 클래스)"
   ]
  },
  {
   "cell_type": "code",
   "execution_count": 22,
   "id": "91dbf758-86ce-4893-b122-054b4b0409fa",
   "metadata": {},
   "outputs": [],
   "source": [
    "# 라이브러리 및 프레임워크 초기화\n",
    "import torch\n",
    "import pandas as pd #csv읽기위해 사용\n",
    "from torch import nn #신경망(뉴럴네트워크) 모듈- 계층 , 활성화 함수, 손실함수, 와 같은 빌딩 블록 제공 \n",
    "from torch import optim #최적화 옵티마이저 \n",
    "from torch.utils.data import Dataset, DataLoader #데이터셋, 데이터 로"
   ]
  },
  {
   "cell_type": "code",
   "execution_count": 23,
   "id": "86bd6260-bedb-464e-8fea-aedd12766fa0",
   "metadata": {},
   "outputs": [],
   "source": [
    "#사용자 정의 데이터 \n",
    "class CustomDataset(Dataset):\n",
    "    def __init__(self, file_path):\n",
    "        df = pd.read_csv(file_path)\n",
    "        self.x = df.iloc[:, 0].values\n",
    "        self.y = df.iloc[:, 1].values\n",
    "        self.length = len(df)\n",
    "\n",
    "    def __getitem__(self, index):\n",
    "        x = torch.FloatTensor([self.x[index] ** 2, self.x[index]])\n",
    "        y = torch.FloatTensor([self.y[index]])\n",
    "        return x, y\n",
    "\n",
    "    def __len__(self):\n",
    "        return self.length"
   ]
  },
  {
   "cell_type": "code",
   "execution_count": 25,
   "id": "dda09dab-cf81-4926-b648-f0141539fac3",
   "metadata": {},
   "outputs": [],
   "source": [
    "# 사용자 정의 모델(선형 변환)\n",
    "class CustomModel(nn.Module):\n",
    "    def __init__(self):\n",
    "        super().__init__()\n",
    "        self.layer = nn.Linear(2, 1)\n",
    "\n",
    "    def forward(self, x):\n",
    "        x = self.layer(x)\n",
    "        return x"
   ]
  },
  {
   "cell_type": "code",
   "execution_count": 27,
   "id": "d3162a4f-b607-4ab9-8613-cb37c9f33c3e",
   "metadata": {},
   "outputs": [
    {
     "name": "stdout",
     "output_type": "stream",
     "text": [
      "/home/jovyan/work/workplace/AIFFEL_quest_rs/Exploration/Quest01\n"
     ]
    }
   ],
   "source": [
    "import os\n",
    "print(os.getcwd())"
   ]
  },
  {
   "cell_type": "code",
   "execution_count": 30,
   "id": "26bddd24-e985-483f-bf33-4a5856e3a014",
   "metadata": {},
   "outputs": [
    {
     "name": "stdout",
     "output_type": "stream",
     "text": [
      "핫\n"
     ]
    }
   ],
   "source": [
    "#사용자 정의 데이터 세트와 데이터 로더\n",
    "train_dataset = CustomDataset(\"/home/jovyan/work/workplace/AIFFEL_quest_rs/Exploration/Quest01/non_linear.csv\")\n",
    "train_dataloader = DataLoader(train_dataset, batch_size=128, shuffle=True, drop_last=True)\n",
    "\n",
    "print(f\"핫\")"
   ]
  },
  {
   "cell_type": "code",
   "execution_count": 31,
   "id": "1b8da836-cf95-46c2-b05e-aefd6c7e7d2c",
   "metadata": {},
   "outputs": [],
   "source": [
    "#gpu 연산 적용\n",
    "device = \"cuda\" if torch.cuda.is_available() else \"cpu\"\n",
    "model = CustomModel().to(device)\n",
    "criterion = nn.MSELoss().to(device)\n",
    "optimizer = optim.SGD(model.parameters(), lr=0.0001)"
   ]
  },
  {
   "cell_type": "code",
   "execution_count": 32,
   "id": "e5da8748-a745-4b08-8010-ffb3c6a43234",
   "metadata": {},
   "outputs": [
    {
     "name": "stdout",
     "output_type": "stream",
     "text": [
      "Epoch : 1000, Model : [Parameter containing:\n",
      "tensor([[ 3.1170, -1.7008]], requires_grad=True), Parameter containing:\n",
      "tensor([-0.5184], requires_grad=True)], Cost : 0.509\n",
      "Epoch : 2000, Model : [Parameter containing:\n",
      "tensor([[ 3.1158, -1.7020]], requires_grad=True), Parameter containing:\n",
      "tensor([-0.4322], requires_grad=True)], Cost : 0.471\n",
      "Epoch : 3000, Model : [Parameter containing:\n",
      "tensor([[ 3.1138, -1.7023]], requires_grad=True), Parameter containing:\n",
      "tensor([-0.3534], requires_grad=True)], Cost : 0.370\n",
      "Epoch : 4000, Model : [Parameter containing:\n",
      "tensor([[ 3.1131, -1.7022]], requires_grad=True), Parameter containing:\n",
      "tensor([-0.2815], requires_grad=True)], Cost : 0.367\n",
      "Epoch : 5000, Model : [Parameter containing:\n",
      "tensor([[ 3.1117, -1.7024]], requires_grad=True), Parameter containing:\n",
      "tensor([-0.2155], requires_grad=True)], Cost : 0.306\n",
      "Epoch : 6000, Model : [Parameter containing:\n",
      "tensor([[ 3.1109, -1.7026]], requires_grad=True), Parameter containing:\n",
      "tensor([-0.1551], requires_grad=True)], Cost : 0.272\n",
      "Epoch : 7000, Model : [Parameter containing:\n",
      "tensor([[ 3.1100, -1.7027]], requires_grad=True), Parameter containing:\n",
      "tensor([-0.1000], requires_grad=True)], Cost : 0.222\n",
      "Epoch : 8000, Model : [Parameter containing:\n",
      "tensor([[ 3.1089, -1.7029]], requires_grad=True), Parameter containing:\n",
      "tensor([-0.0496], requires_grad=True)], Cost : 0.208\n",
      "Epoch : 9000, Model : [Parameter containing:\n",
      "tensor([[ 3.1085, -1.7028]], requires_grad=True), Parameter containing:\n",
      "tensor([-0.0034], requires_grad=True)], Cost : 0.197\n",
      "Epoch : 10000, Model : [Parameter containing:\n",
      "tensor([[ 3.1072, -1.7027]], requires_grad=True), Parameter containing:\n",
      "tensor([0.0389], requires_grad=True)], Cost : 0.165\n"
     ]
    }
   ],
   "source": [
    "#학습진행\n",
    "for epoch in range(10000):\n",
    "    cost = 0.0\n",
    "\n",
    "    for x, y in train_dataloader:\n",
    "        x = x.to(device)\n",
    "        y = y.to(device)\n",
    "\n",
    "        output = model(x)\n",
    "        loss = criterion(output, y)\n",
    "\n",
    "        optimizer.zero_grad()\n",
    "        loss.backward()\n",
    "        optimizer.step()\n",
    "\n",
    "        cost += loss\n",
    "\n",
    "    cost = cost / len(train_dataloader)\n",
    "\n",
    "    if (epoch + 1) % 1000 == 0:\n",
    "        print(f\"Epoch : {epoch+1:4d}, Model : {list(model.parameters())}, Cost : {cost:.3f}\")"
   ]
  },
  {
   "cell_type": "code",
   "execution_count": 33,
   "id": "525bc27e-9288-4fe5-b21b-238186350cfd",
   "metadata": {},
   "outputs": [
    {
     "name": "stdout",
     "output_type": "stream",
     "text": [
      "tensor([[  1.4434],\n",
      "        [ 69.2059],\n",
      "        [357.2833]])\n"
     ]
    }
   ],
   "source": [
    "#모델 평가\n",
    "with torch.no_grad():\n",
    "    model.eval()\n",
    "    inputs = torch.FloatTensor(\n",
    "        [\n",
    "            [1 ** 2, 1],\n",
    "            [5 ** 2, 5],\n",
    "            [11 ** 2, 11]\n",
    "        ]\n",
    "    ).to(device)\n",
    "    outputs = model(inputs)\n",
    "    print(outputs)\n"
   ]
  },
  {
   "cell_type": "code",
   "execution_count": 41,
   "id": "860c1358-d789-4fd6-9991-acd871125fe6",
   "metadata": {},
   "outputs": [],
   "source": [
    "save_dir = \"./models\""
   ]
  },
  {
   "cell_type": "code",
   "execution_count": 42,
   "id": "78666a2a-ddb0-4fab-abfc-e3b8ab74fa6d",
   "metadata": {},
   "outputs": [
    {
     "name": "stdout",
     "output_type": "stream",
     "text": [
      "디렉토리 './models'를 생성했습니다.\n"
     ]
    }
   ],
   "source": [
    "if not os.path.exists(save_dir):\n",
    "    os.makedirs(save_dir) # os.makedirs는 중간 경로가 없으면 모두 생성해줍니다.\n",
    "    print(f\"디렉토리 '{save_dir}'를 생성했습니다.\")"
   ]
  },
  {
   "cell_type": "code",
   "execution_count": 45,
   "id": "4e174180-4971-4793-bf84-5d9206d56e97",
   "metadata": {},
   "outputs": [],
   "source": [
    "#모델 저장\n",
    "\n",
    "torch.save(\n",
    "    model,\n",
    "    \"./models/model.pt\"\n",
    ")\n",
    "\n"
   ]
  },
  {
   "cell_type": "code",
   "execution_count": 46,
   "id": "0bb495dd-c75f-41af-9bc2-e841d04b652c",
   "metadata": {},
   "outputs": [],
   "source": [
    "torch.save(\n",
    "    model.state_dict(),\n",
    "    \"./models/model_state_dict.pt\"\n",
    ")"
   ]
  },
  {
   "cell_type": "code",
   "execution_count": null,
   "id": "b5324266-f20b-4bf0-aba5-a6414c3ea2fd",
   "metadata": {},
   "outputs": [],
   "source": []
  },
  {
   "cell_type": "code",
   "execution_count": null,
   "id": "19a7f3e4-d266-4204-9d67-a02072c552a2",
   "metadata": {},
   "outputs": [],
   "source": []
  },
  {
   "cell_type": "code",
   "execution_count": 6,
   "id": "8a955fb3-d622-4de1-b6d2-ef052c0d7c85",
   "metadata": {},
   "outputs": [
    {
     "name": "stdout",
     "output_type": "stream",
     "text": [
      "2.7.1+cpu\n",
      "False\n"
     ]
    }
   ],
   "source": [
    "import torch\n",
    "\n",
    "print(torch.__version__)\n",
    "print(torch.cuda.is_available())\n"
   ]
  },
  {
   "cell_type": "code",
   "execution_count": null,
   "id": "8c9a884d-9dbf-42ef-82f5-fc44bc73f5d4",
   "metadata": {
    "colab": {
     "base_uri": "https://localhost:8080/"
    },
    "executionInfo": {
     "elapsed": 114,
     "status": "ok",
     "timestamp": 1752645037358,
     "user": {
      "displayName": "김형일",
      "userId": "09633833925626345996"
     },
     "user_tz": -540
    },
    "id": "8c9a884d-9dbf-42ef-82f5-fc44bc73f5d4",
    "outputId": "d1e2fd73-660b-45d2-d7e4-83ffdf6f8202"
   },
   "outputs": [
    {
     "name": "stdout",
     "output_type": "stream",
     "text": [
      "nvcc: NVIDIA (R) Cuda compiler driver\n",
      "Copyright (c) 2005-2024 NVIDIA Corporation\n",
      "Built on Thu_Jun__6_02:18:23_PDT_2024\n",
      "Cuda compilation tools, release 12.5, V12.5.82\n",
      "Build cuda_12.5.r12.5/compiler.34385749_0\n"
     ]
    }
   ],
   "source": [
    "!nvcc --version"
   ]
  },
  {
   "cell_type": "code",
   "execution_count": 1,
   "id": "6d505007-7285-40c4-ba1a-47cd84c64da3",
   "metadata": {
    "colab": {
     "base_uri": "https://localhost:8080/"
    },
    "executionInfo": {
     "elapsed": 3718,
     "status": "ok",
     "timestamp": 1752645060635,
     "user": {
      "displayName": "김형일",
      "userId": "09633833925626345996"
     },
     "user_tz": -540
    },
    "id": "6d505007-7285-40c4-ba1a-47cd84c64da3",
    "outputId": "1a25c03a-80af-45cb-8b02-4f3d1625cc09"
   },
   "outputs": [
    {
     "name": "stdout",
     "output_type": "stream",
     "text": [
      "PyTorch의 CUDA 버전: None\n"
     ]
    }
   ],
   "source": [
    "import torch\n",
    "print(f\"PyTorch의 CUDA 버전: {torch.version.cuda}\")"
   ]
  },
  {
   "cell_type": "code",
   "execution_count": null,
   "id": "1af6f82e-ae1c-4359-8e43-d70cbd57fa3f",
   "metadata": {},
   "outputs": [],
   "source": []
  },
  {
   "cell_type": "code",
   "execution_count": null,
   "id": "0465b6cd-8bdc-455d-9832-1f37d26b14c8",
   "metadata": {},
   "outputs": [],
   "source": []
  },
  {
   "cell_type": "code",
   "execution_count": null,
   "id": "5aeac6f0-61bf-40be-9d99-4becee71fd8b",
   "metadata": {},
   "outputs": [],
   "source": []
  },
  {
   "cell_type": "code",
   "execution_count": null,
   "id": "6f595500-c728-4be9-be22-6fb443581660",
   "metadata": {},
   "outputs": [],
   "source": []
  },
  {
   "cell_type": "code",
   "execution_count": null,
   "id": "292aa7bd-af45-4443-aee2-f56906807eae",
   "metadata": {},
   "outputs": [],
   "source": []
  },
  {
   "cell_type": "code",
   "execution_count": null,
   "id": "95332277-b68c-4014-a93a-f8decaa37a88",
   "metadata": {},
   "outputs": [],
   "source": []
  },
  {
   "cell_type": "code",
   "execution_count": null,
   "id": "AKOjSxAOy75N",
   "metadata": {
    "id": "AKOjSxAOy75N"
   },
   "outputs": [],
   "source": [
    "!git config --global user.email \"nagujean.com\"\n",
    "!git config --global user.name \"nagujean\""
   ]
  },
  {
   "cell_type": "code",
   "execution_count": 16,
   "id": "J-3H2WFn1w9Y",
   "metadata": {
    "colab": {
     "base_uri": "https://localhost:8080/"
    },
    "executionInfo": {
     "elapsed": 1021,
     "status": "ok",
     "timestamp": 1752646400863,
     "user": {
      "displayName": "김형일",
      "userId": "09633833925626345996"
     },
     "user_tz": -540
    },
    "id": "J-3H2WFn1w9Y",
    "outputId": "a2833a24-f587-4051-d6c2-47db937a3172"
   },
   "outputs": [
    {
     "name": "stdout",
     "output_type": "stream",
     "text": [
      "Cloning into 'AIFFEL_quest_rs'...\n",
      "remote: Enumerating objects: 104, done.\u001b[K\n",
      "remote: Counting objects: 100% (104/104), done.\u001b[K\n",
      "remote: Compressing objects: 100% (87/87), done.\u001b[K\n",
      "remote: Total 104 (delta 47), reused 29 (delta 7), pack-reused 0 (from 0)\u001b[K\n",
      "Receiving objects: 100% (104/104), 1.93 MiB | 5.03 MiB/s, done.\n",
      "Resolving deltas: 100% (47/47), done.\n"
     ]
    }
   ],
   "source": [
    "!git clone https://github.com/nagujean/AIFFEL_quest_rs.git"
   ]
  },
  {
   "cell_type": "code",
   "execution_count": null,
   "id": "rWYdBqJCy-tE",
   "metadata": {
    "colab": {
     "base_uri": "https://localhost:8080/"
    },
    "executionInfo": {
     "elapsed": 107,
     "status": "ok",
     "timestamp": 1752646221400,
     "user": {
      "displayName": "김형일",
      "userId": "09633833925626345996"
     },
     "user_tz": -540
    },
    "id": "rWYdBqJCy-tE",
    "outputId": "30b9fff0-b8a7-4003-b177-dbd33e9d3267"
   },
   "outputs": [
    {
     "name": "stdout",
     "output_type": "stream",
     "text": [
      "fatal: not a git repository (or any of the parent directories): .git\n"
     ]
    }
   ],
   "source": [
    "!git status"
   ]
  },
  {
   "cell_type": "code",
   "execution_count": null,
   "id": "NEVVNHtnz422",
   "metadata": {
    "colab": {
     "base_uri": "https://localhost:8080/"
    },
    "executionInfo": {
     "elapsed": 103,
     "status": "ok",
     "timestamp": 1752646225511,
     "user": {
      "displayName": "김형일",
      "userId": "09633833925626345996"
     },
     "user_tz": -540
    },
    "id": "NEVVNHtnz422",
    "outputId": "0d3c6b86-bc18-40a6-816d-7a2178a74160"
   },
   "outputs": [
    {
     "name": "stdout",
     "output_type": "stream",
     "text": [
      "/content\n"
     ]
    }
   ],
   "source": [
    "!pwd"
   ]
  },
  {
   "cell_type": "code",
   "execution_count": 17,
   "id": "C_rMUjKrz4qN",
   "metadata": {
    "colab": {
     "base_uri": "https://localhost:8080/"
    },
    "executionInfo": {
     "elapsed": 10,
     "status": "ok",
     "timestamp": 1752646403490,
     "user": {
      "displayName": "김형일",
      "userId": "09633833925626345996"
     },
     "user_tz": -540
    },
    "id": "C_rMUjKrz4qN",
    "outputId": "04b7dee2-b196-4b6c-8eb0-60f1d5dc741e"
   },
   "outputs": [
    {
     "name": "stdout",
     "output_type": "stream",
     "text": [
      "/content/AIFFEL_quest_rs/AIFFEL_quest_rs\n"
     ]
    }
   ],
   "source": [
    "%cd AIFFEL_quest_rs"
   ]
  },
  {
   "cell_type": "code",
   "execution_count": 25,
   "id": "jhOCpu465KVu",
   "metadata": {
    "colab": {
     "base_uri": "https://localhost:8080/"
    },
    "executionInfo": {
     "elapsed": 15,
     "status": "ok",
     "timestamp": 1752647386369,
     "user": {
      "displayName": "김형일",
      "userId": "09633833925626345996"
     },
     "user_tz": -540
    },
    "id": "jhOCpu465KVu",
    "outputId": "97a5da33-67a2-4bec-da8d-dc5421934ac8"
   },
   "outputs": [
    {
     "name": "stdout",
     "output_type": "stream",
     "text": [
      "/content\n"
     ]
    }
   ],
   "source": [
    "%cd /content/"
   ]
  },
  {
   "cell_type": "code",
   "execution_count": 26,
   "id": "Vyo2K3RP7N5z",
   "metadata": {
    "executionInfo": {
     "elapsed": 95,
     "status": "ok",
     "timestamp": 1752647405919,
     "user": {
      "displayName": "김형일",
      "userId": "09633833925626345996"
     },
     "user_tz": -540
    },
    "id": "Vyo2K3RP7N5z"
   },
   "outputs": [],
   "source": [
    "!rm -rf AIFFEL_quest_rs/"
   ]
  },
  {
   "cell_type": "code",
   "execution_count": 27,
   "id": "yDi3ip5-7Sj_",
   "metadata": {
    "colab": {
     "base_uri": "https://localhost:8080/"
    },
    "executionInfo": {
     "elapsed": 36839,
     "status": "ok",
     "timestamp": 1752647803946,
     "user": {
      "displayName": "김형일",
      "userId": "09633833925626345996"
     },
     "user_tz": -540
    },
    "id": "yDi3ip5-7Sj_",
    "outputId": "42fbac8f-2814-46f3-c82b-17c227390ffc"
   },
   "outputs": [
    {
     "name": "stdout",
     "output_type": "stream",
     "text": [
      "Mounted at /content/drive\n"
     ]
    }
   ],
   "source": [
    "from google.colab import drive\n",
    "drive.mount('/content/drive')"
   ]
  },
  {
   "cell_type": "code",
   "execution_count": 28,
   "id": "ucUlw5339II-",
   "metadata": {
    "colab": {
     "base_uri": "https://localhost:8080/"
    },
    "executionInfo": {
     "elapsed": 628,
     "status": "ok",
     "timestamp": 1752647908604,
     "user": {
      "displayName": "김형일",
      "userId": "09633833925626345996"
     },
     "user_tz": -540
    },
    "id": "ucUlw5339II-",
    "outputId": "38570dcf-33c3-4beb-bb7b-949b163640ed"
   },
   "outputs": [
    {
     "name": "stdout",
     "output_type": "stream",
     "text": [
      "/content/drive/MyDrive/AIFFEL_quest_rs\n"
     ]
    }
   ],
   "source": [
    "%cd /content/drive/MyDrive/AIFFEL_quest_rs/"
   ]
  },
  {
   "cell_type": "code",
   "execution_count": 1,
   "id": "hMlQiXZ99Mrd",
   "metadata": {
    "colab": {
     "base_uri": "https://localhost:8080/"
    },
    "executionInfo": {
     "elapsed": 105,
     "status": "ok",
     "timestamp": 1752647926221,
     "user": {
      "displayName": "김형일",
      "userId": "09633833925626345996"
     },
     "user_tz": -540
    },
    "id": "hMlQiXZ99Mrd",
    "outputId": "fbdaa02d-ca79-4f55-945c-98dcaf3dc6e2"
   },
   "outputs": [
    {
     "name": "stdout",
     "output_type": "stream",
     "text": [
      "/home/jovyan/work/workplace/AIFFEL_quest_rs/Exploration/Quest01\n"
     ]
    }
   ],
   "source": [
    "!pwd"
   ]
  },
  {
   "cell_type": "code",
   "execution_count": null,
   "id": "kq5LiDEe9To5",
   "metadata": {
    "id": "kq5LiDEe9To5"
   },
   "outputs": [],
   "source": [
    "!git add ."
   ]
  },
  {
   "cell_type": "code",
   "execution_count": 22,
   "id": "f8z2Ru9Y3e2X",
   "metadata": {
    "colab": {
     "base_uri": "https://localhost:8080/"
    },
    "executionInfo": {
     "elapsed": 236,
     "status": "ok",
     "timestamp": 1752646748805,
     "user": {
      "displayName": "김형일",
      "userId": "09633833925626345996"
     },
     "user_tz": -540
    },
    "id": "f8z2Ru9Y3e2X",
    "outputId": "543cb9d4-66df-4fdb-baa1-a66f10fedded"
   },
   "outputs": [
    {
     "name": "stdout",
     "output_type": "stream",
     "text": [
      "On branch main\n",
      "Your branch is up to date with 'origin/main'.\n",
      "\n",
      "nothing to commit, working tree clean\n"
     ]
    }
   ],
   "source": [
    "!git add .\n",
    "!git commit -m \" 코랩에서 colab_test.ipynb 파일 생성 테스트\""
   ]
  },
  {
   "cell_type": "code",
   "execution_count": 1,
   "id": "97cf73a1-6460-4386-912e-f739b693262f",
   "metadata": {},
   "outputs": [],
   "source": [
    "!git add ."
   ]
  },
  {
   "cell_type": "code",
   "execution_count": 3,
   "id": "f7e8deda-29ca-4715-aeed-c38bb4f88ede",
   "metadata": {},
   "outputs": [
    {
     "name": "stdout",
     "output_type": "stream",
     "text": [
      "On branch main\n",
      "Your branch is behind 'origin/main' by 8 commits, and can be fast-forwarded.\n",
      "  (use \"git pull\" to update your local branch)\n",
      "\n",
      "Changes not staged for commit:\n",
      "  (use \"git add <file>...\" to update what will be committed)\n",
      "  (use \"git restore <file>...\" to discard changes in working directory)\n",
      "\t\u001b[31mmodified:   colab_test.ipynb\u001b[m\n",
      "\n",
      "no changes added to commit (use \"git add\" and/or \"git commit -a\")\n"
     ]
    }
   ],
   "source": [
    "!git status"
   ]
  },
  {
   "cell_type": "code",
   "execution_count": 4,
   "id": "00734b3e-b506-4481-977c-a4d4646d6601",
   "metadata": {},
   "outputs": [],
   "source": [
    "!git config --global user.email \"nagujean@gmail.com\"\n",
    "!git config --global user.name \"nagujean\""
   ]
  },
  {
   "cell_type": "code",
   "execution_count": 5,
   "id": "d25d0f8d-1ec1-460a-851d-ed297c9b2b62",
   "metadata": {},
   "outputs": [
    {
     "name": "stdout",
     "output_type": "stream",
     "text": [
      "[main 36ba7b3] 파이토치 테스트 모델 파일등 업뎃\n",
      " 5 files changed, 1319 insertions(+), 1 deletion(-)\n",
      " create mode 100644 Exploration/Quest01/.ipynb_checkpoints/colab_test-checkpoint.ipynb\n",
      " create mode 100644 Exploration/Quest01/models/model.pt\n",
      " create mode 100644 Exploration/Quest01/models/model_state_dict.pt\n",
      " create mode 100644 Exploration/Quest01/non_linear.csv\n"
     ]
    }
   ],
   "source": [
    "!git commit -m \"파이토치 테스트 모델 파일등 업뎃\""
   ]
  },
  {
   "cell_type": "code",
   "execution_count": 6,
   "id": "59954e38-437e-4f5d-a4cb-080cecb7335d",
   "metadata": {},
   "outputs": [
    {
     "name": "stdout",
     "output_type": "stream",
     "text": [
      "Enumerating objects: 15, done.\n",
      "Counting objects: 100% (15/15), done.\n",
      "Delta compression using up to 2 threads\n",
      "Compressing objects: 100% (10/10), done.\n",
      "Writing objects: 100% (10/10), 9.66 KiB | 2.42 MiB/s, done.\n",
      "Total 10 (delta 2), reused 0 (delta 0), pack-reused 0\n",
      "remote: Resolving deltas: 100% (2/2), completed with 2 local objects.\u001b[K\n",
      "To https://github.com/nagujean/AIFFEL_quest_rs.git\n",
      "   c903d55..36ba7b3  main -> main\n"
     ]
    }
   ],
   "source": [
    "!git push origin main"
   ]
  },
  {
   "cell_type": "code",
   "execution_count": 4,
   "id": "b3ea4097-85e5-49e2-b4bc-aef892529d1f",
   "metadata": {},
   "outputs": [
    {
     "name": "stdout",
     "output_type": "stream",
     "text": [
      "From https://github.com/nagujean/AIFFEL_quest_rs\n",
      " * branch            main       -> FETCH_HEAD\n",
      "Updating 36ba7b3..0cee8da\n",
      "error: Your local changes to the following files would be overwritten by merge:\n",
      "\tExploration/Quest01/colab_test.ipynb\n",
      "Please commit your changes or stash them before you merge.\n",
      "Aborting\n"
     ]
    }
   ],
   "source": [
    "!git pull origin main"
   ]
  },
  {
   "cell_type": "code",
   "execution_count": null,
   "id": "6879da38-33e6-449f-b8f7-a84a93161b67",
   "metadata": {},
   "outputs": [],
   "source": [
    "!git stas"
   ]
  }
 ],
 "metadata": {
  "accelerator": "GPU",
  "colab": {
   "gpuType": "T4",
   "provenance": []
  },
  "kernelspec": {
   "display_name": "Python 3 (ipykernel)",
   "language": "python",
   "name": "python3"
  },
  "language_info": {
   "codemirror_mode": {
    "name": "ipython",
    "version": 3
   },
   "file_extension": ".py",
   "mimetype": "text/x-python",
   "name": "python",
   "nbconvert_exporter": "python",
   "pygments_lexer": "ipython3",
   "version": "3.12.11"
  }
 },
 "nbformat": 4,
 "nbformat_minor": 5
}
