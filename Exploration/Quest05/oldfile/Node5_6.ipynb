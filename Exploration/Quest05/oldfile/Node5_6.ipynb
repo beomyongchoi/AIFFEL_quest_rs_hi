{
 "cells": [
  {
   "cell_type": "code",
   "execution_count": 1,
   "id": "8a9a740f-d8cd-48ea-ae96-1ae9d4124ae1",
   "metadata": {},
   "outputs": [
    {
     "name": "stdout",
     "output_type": "stream",
     "text": [
      "[[1 2]\n",
      " [0 4]]\n"
     ]
    }
   ],
   "source": [
    "from scipy.linalg import triu\n",
    "import numpy as np\n",
    "\n",
    "a = np.array([[1, 2], [3, 4]])\n",
    "print(triu(a))\n"
   ]
  },
  {
   "cell_type": "code",
   "execution_count": 2,
   "id": "7c8e2f9b-e295-4991-a95c-e2f3db0261fb",
   "metadata": {},
   "outputs": [
    {
     "name": "stdout",
     "output_type": "stream",
     "text": [
      "4.3.2\n"
     ]
    }
   ],
   "source": [
    "import gensim\n",
    "from gensim.models import KeyedVectors\n",
    "\n",
    "print(gensim.__version__)\n"
   ]
  },
  {
   "cell_type": "code",
   "execution_count": 3,
   "id": "b72bbd91-c9d6-4c22-bcd8-13e5b6c30631",
   "metadata": {},
   "outputs": [],
   "source": [
    "#노드5번 IMBD 영화리뷰 감성분석 "
   ]
  },
  {
   "cell_type": "code",
   "execution_count": 4,
   "id": "ac256b83-9e6f-453e-842c-5010f4fa6672",
   "metadata": {},
   "outputs": [],
   "source": [
    "# IMDb 영화 리뷰 감성 분석을 위한 데이터 심볼릭 링크 생성\n",
    "#!ln -s /home/jovyan/data /home/jovyan/work/sentiment_classification/  \n",
    "# /home/jovyan/data 디렉토리를 /home/jovyan/work/sentiment_classification/ 디렉토리로 심볼릭 링크 생성"
   ]
  },
  {
   "cell_type": "code",
   "execution_count": 5,
   "id": "a0f8a12f-8704-471a-b264-e1cf7025cd7e",
   "metadata": {},
   "outputs": [
    {
     "name": "stdout",
     "output_type": "stream",
     "text": [
      "훈련 샘플 개수: 25000, 테스트 개수: 25000\n"
     ]
    }
   ],
   "source": [
    "# 미리 저장된 IMDb 데이터셋을 불러와 활용\n",
    "import os  # 운영체제 관련 기능을 제공하는 모듈\n",
    "import numpy as np  # 배열 연산을 위한 라이브러리\n",
    "\n",
    "# 이번 실습에서는 미리 다운로드된 데이터셋을 불러와 활용하겠습니다\n",
    "data_dir = os.path.join(os.getenv('HOME') + '/work/sentiment_classification/data/')  # 데이터셋이 저장된 디렉토리 경로 설정\n",
    "\n",
    "x_train = np.load(data_dir + 'imdb_x_train.npy', allow_pickle=True)  # 훈련용 입력 데이터(리뷰)를 .npy 파일에서 로드\n",
    "y_train = np.load(data_dir + 'imdb_y_train.npy', allow_pickle=True)  # 훈련용 라벨 데이터(긍정/부정)를 .npy 파일에서 로드\n",
    "x_test = np.load(data_dir + 'imdb_x_test.npy', allow_pickle=True)  # 테스트용 입력 데이터(리뷰)를 .npy 파일에서 로드\n",
    "y_test = np.load(data_dir + 'imdb_y_test.npy', allow_pickle=True)  # 테스트용 라벨 데이터(긍정/부정)를 .npy 파일에서 로드\n",
    "print(f\"훈련 샘플 개수: {len(x_train)}, 테스트 개수: {len(x_test)}\")  # 로드된 데이터셋의 크기 출력"
   ]
  },
  {
   "cell_type": "code",
   "execution_count": 6,
   "id": "ed98288c-0440-4127-9ca7-2f6e01418d1f",
   "metadata": {},
   "outputs": [
    {
     "name": "stdout",
     "output_type": "stream",
     "text": [
      "[1, 14, 22, 16, 43, 530, 973, 1622, 1385, 65, 458, 4468, 66, 3941, 4, 173, 36, 256, 5, 25, 100, 43, 838, 112, 50, 670, 2, 9, 35, 480, 284, 5, 150, 4, 172, 112, 167, 2, 336, 385, 39, 4, 172, 4536, 1111, 17, 546, 38, 13, 447, 4, 192, 50, 16, 6, 147, 2025, 19, 14, 22, 4, 1920, 4613, 469, 4, 22, 71, 87, 12, 16, 43, 530, 38, 76, 15, 13, 1247, 4, 22, 17, 515, 17, 12, 16, 626, 18, 2, 5, 62, 386, 12, 8, 316, 8, 106, 5, 4, 2223, 5244, 16, 480, 66, 3785, 33, 4, 130, 12, 16, 38, 619, 5, 25, 124, 51, 36, 135, 48, 25, 1415, 33, 6, 22, 12, 215, 28, 77, 52, 5, 14, 407, 16, 82, 2, 8, 4, 107, 117, 5952, 15, 256, 4, 2, 7, 3766, 5, 723, 36, 71, 43, 530, 476, 26, 400, 317, 46, 7, 4, 2, 1029, 13, 104, 88, 4, 381, 15, 297, 98, 32, 2071, 56, 26, 141, 6, 194, 7486, 18, 4, 226, 22, 21, 134, 476, 26, 480, 5, 144, 30, 5535, 18, 51, 36, 28, 224, 92, 25, 104, 4, 226, 65, 16, 38, 1334, 88, 12, 16, 283, 5, 16, 4472, 113, 103, 32, 15, 16, 5345, 19, 178, 32]\n",
      "라벨:  1\n",
      "1번째 리뷰 문장 길이:  218\n",
      "2번째 리뷰 문장 길이:  189\n"
     ]
    }
   ],
   "source": [
    "# IMDb 데이터셋의 첫 번째, 두 번째 리뷰 및 라벨 출력\n",
    "print(x_train[0])  # 훈련 데이터의 첫 번째 리뷰(정수 시퀀스)를 출력\n",
    "print('라벨: ', y_train[0])  # 훈련 데이터의 첫 번째 리뷰에 해당하는 라벨(긍정/부정)을 출력\n",
    "print('1번째 리뷰 문장 길이: ', len(x_train[0]))  # 첫 번째 리뷰의 길이를 출력 (리뷰를 구성하는 단어의 개수)\n",
    "print('2번째 리뷰 문장 길이: ', len(x_train[1]))  # 두 번째 리뷰의 길이를 출력 (리뷰를 구성하는 단어의 개수)"
   ]
  },
  {
   "cell_type": "code",
   "execution_count": 7,
   "id": "6908df95-a927-40fc-84c6-e8ba2245c813",
   "metadata": {},
   "outputs": [
    {
     "name": "stdout",
     "output_type": "stream",
     "text": [
      "the\n",
      "1\n"
     ]
    }
   ],
   "source": [
    "# 단어와 인덱스 매핑 정보를 로드 및 출력\n",
    "word_to_index = np.load(data_dir + 'imdb_word_to_index.pickle', allow_pickle=True)  # 단어를 정수로 변환하는 딕셔너리 로드\n",
    "index_to_word = {index:word for word, index in word_to_index.items()}  # 정수를 단어로 변환하는 딕셔너리 생성 (역전환)\n",
    "print(index_to_word[1])  # 인덱스 1에 해당하는 단어 'the'를 출력\n",
    "print(word_to_index['the'])  # 단어 'the'에 해당하는 인덱스 1을 출력"
   ]
  },
  {
   "cell_type": "code",
   "execution_count": 8,
   "id": "441bdf21-1a17-4c38-bad5-3d45d3232664",
   "metadata": {},
   "outputs": [],
   "source": [
    "def get_decoded_sentence(data, index_to_word):\n",
    "    # 인덱스 리스트의 첫 번째 값인 1은 <BOS> 토큰을 의미\n",
    "    return ' '.join([index_to_word.get(i, '<UNK>') for i in data if i != 1])"
   ]
  },
  {
   "cell_type": "code",
   "execution_count": 9,
   "id": "a7454584-df9a-4274-b015-a1da91338849",
   "metadata": {},
   "outputs": [
    {
     "name": "stdout",
     "output_type": "stream",
     "text": [
      "as you with out themselves powerful lets loves their becomes reaching had journalist of lot from anyone to have after out atmosphere never more room and it so heart shows to years of every never going and help moments or of every chest visual movie except her was several of enough more with is now current film as you of mine potentially unfortunately of you than him that with out themselves her get for was camp of you movie sometimes movie that with scary but and to story wonderful that in seeing in character to of 70s musicians with heart had shadows they of here that with her serious to have does when from why what have critics they is you that isn't one will very to as itself with other and in of seen over landed for anyone of and br show's to whether from than out themselves history he name half some br of and odd was two most of mean for 1 any an boat she he should is thought frog but of script you not while history he heart to real at barrel but when from one bit then have two of script their with her nobody most that with wasn't to with armed acting watch an for with heartfelt film want an\n"
     ]
    }
   ],
   "source": [
    "# 보정 전 x_train[0] 데이터\n",
    "print(get_decoded_sentence(x_train[0], index_to_word))"
   ]
  },
  {
   "cell_type": "code",
   "execution_count": 10,
   "id": "b01dce4c-c790-49fd-97e7-e4d0bed47afa",
   "metadata": {},
   "outputs": [
    {
     "name": "stdout",
     "output_type": "stream",
     "text": [
      "<BOS>\n",
      "4\n",
      "the\n",
      "this film was just brilliant casting location scenery story direction everyone's really suited the part they played and you could just imagine being there robert <UNK> is an amazing actor and now the same being director <UNK> father came from the same scottish island as myself so i loved the fact there was a real connection with this film the witty remarks throughout the film were great it was just brilliant so much that i bought the film as soon as it was released for <UNK> and would recommend it to everyone to watch and the fly fishing was amazing really cried at the end it was so sad and you know what they say if you cry at a film it must have been good and this definitely was also <UNK> to the two little boy's that played the <UNK> of norman and paul they were just brilliant children are often left out of the <UNK> list i think because the stars that play them all grown up are such a big profile for the whole film but these children are amazing and should be praised for what they have done don't you think the whole story was so lovely because it was true and was someone's life after all that was shared with us all\n"
     ]
    }
   ],
   "source": [
    "# 인코딩 인덱스 보정 및 특수 토큰 추가\n",
    "word_to_index = {k:(v+3) for k,v in word_to_index.items()}  # 기존 인덱스를 3씩 뒤로 밀어서 보정\n",
    "\n",
    "# 처음 4개의 인덱스에 특수 토큰 할당\n",
    "word_to_index[\"<PAD>\"] = 0  # 패딩 토큰 (문장 길이를 맞추기 위해 사용)\n",
    "word_to_index[\"<BOS>\"] = 1  # 문장 시작 토큰\n",
    "word_to_index[\"<UNK>\"] = 2  # 사전에 없는 단어를 나타내는 토큰\n",
    "word_to_index[\"<UNUSED>\"] = 3  # 사용하지 않는 토큰\n",
    "\n",
    "index_to_word = {index:word for word, index in word_to_index.items()}  # 보정된 딕셔너리를 역전환하여 새로 생성\n",
    "\n",
    "print(index_to_word[1])  # 보정 후 인덱스 1에 해당하는 '<BOS>' 출력\n",
    "print(word_to_index['the'])  # 보정 후 단어 'the'에 해당하는 인덱스 4 출력\n",
    "print(index_to_word[4])  # 보정 후 인덱스 4에 해당하는 'the' 출력\n",
    "\n",
    "# 보정 후 첫 번째 리뷰 디코딩\n",
    "print(get_decoded_sentence(x_train[0], index_to_word))"
   ]
  },
  {
   "cell_type": "code",
   "execution_count": 11,
   "id": "69dd0daf-561a-49bc-a666-6c7a1ae96db8",
   "metadata": {},
   "outputs": [
    {
     "name": "stdout",
     "output_type": "stream",
     "text": [
      "this film was just brilliant casting location scenery story direction everyone's really suited the part they played and you could just imagine being there robert <UNK> is an amazing actor and now the same being director <UNK> father came from the same scottish island as myself so i loved the fact there was a real connection with this film the witty remarks throughout the film were great it was just brilliant so much that i bought the film as soon as it was released for <UNK> and would recommend it to everyone to watch and the fly fishing was amazing really cried at the end it was so sad and you know what they say if you cry at a film it must have been good and this definitely was also <UNK> to the two little boy's that played the <UNK> of norman and paul they were just brilliant children are often left out of the <UNK> list i think because the stars that play them all grown up are such a big profile for the whole film but these children are amazing and should be praised for what they have done don't you think the whole story was so lovely because it was true and was someone's life after all that was shared with us all\n",
      "라벨:  1\n"
     ]
    }
   ],
   "source": [
    "# 첫 번째 리뷰를 디코딩하고 라벨 출력\n",
    "print(get_decoded_sentence(x_train[0], index_to_word))  # 숫자 인덱스로 된 첫 번째 리뷰를 단어 문장으로 변환하여 출력\n",
    "print('라벨: ', y_train[0])  # 첫 번째 리뷰의 감성 라벨(0: 부정, 1: 긍정) 출력"
   ]
  },
  {
   "cell_type": "code",
   "execution_count": 12,
   "id": "63fdd4ac-2f01-434b-962f-50131c349d75",
   "metadata": {},
   "outputs": [
    {
     "name": "stdout",
     "output_type": "stream",
     "text": [
      "문장길이 평균 :  234.75892\n",
      "문장길이 최대 :  2494\n",
      "문장길이 표준편차 :  172.91149458735703\n",
      "pad_sequences maxlen :  580\n",
      "전체 문장의 0.94536%가 maxlen 설정값 이내에 포함됩니다. \n"
     ]
    }
   ],
   "source": [
    "# IMDb 데이터셋의 문장 길이 분석 및 최대 길이 설정\n",
    "total_data_text = list(x_train) + list(x_test)  # 훈련 데이터와 테스트 데이터를 하나로 합침\n",
    "\n",
    "# 각 문장의 토큰(단어) 개수를 리스트로 생성\n",
    "num_tokens = [len(tokens) for tokens in total_data_text]\n",
    "num_tokens = np.array(num_tokens)  # 계산을 위해 numpy 배열로 변환\n",
    "\n",
    "# 문장 길이 통계 출력\n",
    "print('문장길이 평균 : ', np.mean(num_tokens))  # 문장 길이의 평균값\n",
    "print('문장길이 최대 : ', np.max(num_tokens))  # 문장 길이의 최댓값\n",
    "print('문장길이 표준편차 : ', np.std(num_tokens))  # 문장 길이의 표준편차\n",
    "\n",
    "# 최대 문장 길이(maxlen)를 평균 + 2*표준편차로 설정\n",
    "max_tokens = np.mean(num_tokens) + 2 * np.std(num_tokens)\n",
    "maxlen = int(max_tokens)  # 정수형으로 변환\n",
    "print('pad_sequences maxlen : ', maxlen)\n",
    "\n",
    "# 설정된 maxlen에 포함되는 문장 비율 계산 및 출력\n",
    "print(f'전체 문장의 {np.sum(num_tokens < max_tokens) / len(num_tokens)}%가 maxlen 설정값 이내에 포함됩니다. ')"
   ]
  },
  {
   "cell_type": "code",
   "execution_count": 13,
   "id": "a5daceb5-6622-4b8d-9392-5c1b59cf9d55",
   "metadata": {},
   "outputs": [
    {
     "name": "stdout",
     "output_type": "stream",
     "text": [
      "torch.Size([25000, 580])\n"
     ]
    }
   ],
   "source": [
    "# 문장 길이 통일 및 텐서 변환\n",
    "import torch\n",
    "\n",
    "def pad_sequences(data, maxlen):\n",
    "    padded_data = []\n",
    "    for sentence in data:\n",
    "        if len(sentence) < maxlen:\n",
    "            # 문장 길이가 maxlen보다 짧으면, 0(패딩)을 추가하여 길이 맞추기\n",
    "            sentence = sentence + [0] * (maxlen - len(sentence))\n",
    "        else:\n",
    "            # 문장 길이가 maxlen보다 길면, 뒷부분을 잘라서 길이 맞추기\n",
    "            sentence = sentence[:maxlen]\n",
    "        padded_data.append(sentence)\n",
    "    return np.array(padded_data)  # 결과를 numpy 배열로 반환\n",
    "\n",
    "x_train_padded = pad_sequences(x_train, maxlen)  # 훈련 데이터의 길이를 maxlen에 맞춤\n",
    "x_test_padded = pad_sequences(x_test, maxlen)  # 테스트 데이터의 길이를 maxlen에 맞춤\n",
    "\n",
    "x_train_tensor = torch.tensor(x_train_padded, dtype=torch.long)  # 패딩된 훈련 데이터를 PyTorch 텐서로 변환\n",
    "x_test_tensor = torch.tensor(x_test_padded, dtype=torch.long)  # 패딩된 테스트 데이터를 PyTorch 텐서로 변환\n",
    "\n",
    "print(x_train_tensor.shape)  # 변환된 훈련 텐서의 형태(shape) 출력"
   ]
  },
  {
   "cell_type": "code",
   "execution_count": 14,
   "id": "4e25fe82-5242-49e0-b73d-3833a21e75ad",
   "metadata": {},
   "outputs": [
    {
     "name": "stdout",
     "output_type": "stream",
     "text": [
      "SentimentModel(\n",
      "  (embedding): Embedding(10000, 16)\n",
      "  (lstm): LSTM(16, 8, batch_first=True)\n",
      "  (fc1): Linear(in_features=8, out_features=8, bias=True)\n",
      "  (fc2): Linear(in_features=8, out_features=1, bias=True)\n",
      ")\n"
     ]
    }
   ],
   "source": [
    "# PyTorch를 이용한 LSTM 기반 감성 분석 모델 정의 및 구조 출력\n",
    "import torch  # 딥러닝 프레임워크 PyTorch 라이브러리\n",
    "import torch.nn as nn  # 신경망 모듈\n",
    "import torch.nn.functional as F  # 신경망 함수 모음\n",
    "\n",
    "vocab_size = 10000  # 모델이 다룰 수 있는 단어의 총 개수\n",
    "word_vector_dim = 16  # 각 단어를 표현하는 워드 벡터의 차원\n",
    "\n",
    "# 모델 설계: nn.Module을 상속받아 SentimentModel 클래스 정의\n",
    "class SentimentModel(nn.Module):\n",
    "    # 모델의 레이어(Layer)들을 정의\n",
    "    def __init__(self, vocab_size, word_vector_dim):\n",
    "        super(SentimentModel, self).__init__()  # nn.Module의 생성자 호출\n",
    "        self.embedding = nn.Embedding(vocab_size, word_vector_dim)  # 단어를 워드 벡터로 변환하는 임베딩 레이어\n",
    "        self.lstm = nn.LSTM(word_vector_dim, 8, batch_first=True)  # 워드 벡터 시퀀스를 처리하는 LSTM 레이어\n",
    "        self.fc1 = nn.Linear(8, 8)  # LSTM의 최종 출력을 받아서 처리하는 첫 번째 완전 연결 레이어\n",
    "        self.fc2 = nn.Linear(8, 1)  # 최종 출력을 0과 1 사이의 값으로 만드는 두 번째 완전 연결 레이어\n",
    "\n",
    "    # 모델의 순전파(forward) 로직을 정의\n",
    "    def forward(self, x):\n",
    "        x = self.embedding(x)  # 입력(단어 인덱스)을 임베딩 레이어에 통과시켜 워드 벡터로 변환\n",
    "        x, (hn, cn) = self.lstm(x)  # 임베딩 벡터 시퀀스를 LSTM에 통과\n",
    "        x = x[:, -1, :]  # LSTM의 최종 시점(sequence의 마지막)의 은닉 상태를 가져옴\n",
    "        x = F.relu(self.fc1(x))  # 첫 번째 완전 연결 레이어에 통과시키고 ReLU 활성화 함수 적용\n",
    "        x = torch.sigmoid(self.fc2(x))  # 두 번째 완전 연결 레이어에 통과시키고 시그모이드 활성화 함수 적용 (0~1 사이 값)\n",
    "        return x  # 최종 출력값 반환\n",
    "\n",
    "model = SentimentModel(vocab_size, word_vector_dim)  # 정의된 클래스를 바탕으로 모델 객체 생성\n",
    "print(model)  # 모델의 레이어 구조와 파라미터 정보 출력"
   ]
  },
  {
   "cell_type": "code",
   "execution_count": 15,
   "id": "1f3b318a-25c1-4a54-9098-d864af299234",
   "metadata": {},
   "outputs": [
    {
     "name": "stdout",
     "output_type": "stream",
     "text": [
      "torch.Size([15000, 580])\n",
      "(15000,)\n"
     ]
    }
   ],
   "source": [
    "# 훈련 데이터셋을 훈련용과 검증용으로 분리\n",
    "# validation set 10000건 분리\n",
    "x_val = x_train_tensor[:10000]  # x_train_tensor의 앞 10,000개를 검증용 입력 데이터로 할당\n",
    "y_val = y_train[:10000]  # y_train의 앞 10,000개를 검증용 라벨 데이터로 할당\n",
    "\n",
    "# validation set을 제외한 나머지 15000건\n",
    "partial_x_train = x_train_tensor[10000:]  # x_train_tensor의 10,000번째 이후 데이터를 훈련용 입력 데이터로 할당\n",
    "partial_y_train = y_train[10000:]  # y_train의 10,000번째 이후 데이터를 훈련용 라벨 데이터로 할당\n",
    "\n",
    "print(partial_x_train.shape)  # 재할당된 훈련용 입력 데이터의 형태(shape) 출력\n",
    "print(partial_y_train.shape)  # 재할당된 훈련용 라벨 데이터의 형태(shape) 출력"
   ]
  },
  {
   "cell_type": "code",
   "execution_count": 16,
   "id": "56fe32d4-c721-4f11-9b04-101a14c0a721",
   "metadata": {},
   "outputs": [
    {
     "name": "stderr",
     "output_type": "stream",
     "text": [
      "/tmp/ipykernel_1221/1080973660.py:9: UserWarning: To copy construct from a tensor, it is recommended to use sourceTensor.detach().clone() or sourceTensor.detach().clone().requires_grad_(True), rather than torch.tensor(sourceTensor).\n",
      "  partial_x_train_tensor = torch.tensor(partial_x_train, dtype=torch.long)  # 훈련용 입력 데이터를 PyTorch 텐서로 변환\n",
      "/tmp/ipykernel_1221/1080973660.py:12: UserWarning: To copy construct from a tensor, it is recommended to use sourceTensor.detach().clone() or sourceTensor.detach().clone().requires_grad_(True), rather than torch.tensor(sourceTensor).\n",
      "  x_val_tensor = torch.tensor(x_val, dtype=torch.long)  # 검증용 입력 데이터를 PyTorch 텐서로 변환\n"
     ]
    },
    {
     "name": "stdout",
     "output_type": "stream",
     "text": [
      "Epoch 1/30 - Train Loss: 0.7033, Train Accuracy: 0.4965 - Validation Loss: 0.6977, Validation Accuracy: 0.5053\n",
      "Epoch 2/30 - Train Loss: 0.6986, Train Accuracy: 0.4965 - Validation Loss: 0.6953, Validation Accuracy: 0.5053\n",
      "Epoch 3/30 - Train Loss: 0.6953, Train Accuracy: 0.4965 - Validation Loss: 0.6933, Validation Accuracy: 0.5053\n",
      "Epoch 4/30 - Train Loss: 0.6932, Train Accuracy: 0.4947 - Validation Loss: 0.6930, Validation Accuracy: 0.5010\n",
      "Epoch 5/30 - Train Loss: 0.6928, Train Accuracy: 0.5089 - Validation Loss: 0.6931, Validation Accuracy: 0.5007\n",
      "Epoch 6/30 - Train Loss: 0.6926, Train Accuracy: 0.5090 - Validation Loss: 0.6931, Validation Accuracy: 0.5007\n",
      "Epoch 7/30 - Train Loss: 0.6927, Train Accuracy: 0.5089 - Validation Loss: 0.6931, Validation Accuracy: 0.5007\n",
      "Epoch 8/30 - Train Loss: 0.6927, Train Accuracy: 0.5089 - Validation Loss: 0.6931, Validation Accuracy: 0.5006\n",
      "Epoch 9/30 - Train Loss: 0.6925, Train Accuracy: 0.5089 - Validation Loss: 0.6931, Validation Accuracy: 0.5007\n",
      "Epoch 10/30 - Train Loss: 0.6924, Train Accuracy: 0.5093 - Validation Loss: 0.6930, Validation Accuracy: 0.5010\n",
      "Epoch 11/30 - Train Loss: 0.6921, Train Accuracy: 0.5094 - Validation Loss: 0.6931, Validation Accuracy: 0.5004\n",
      "Epoch 12/30 - Train Loss: 0.6917, Train Accuracy: 0.5105 - Validation Loss: 0.6932, Validation Accuracy: 0.5002\n",
      "Epoch 13/30 - Train Loss: 0.6914, Train Accuracy: 0.5119 - Validation Loss: 0.6933, Validation Accuracy: 0.5001\n",
      "Epoch 14/30 - Train Loss: 0.6906, Train Accuracy: 0.5135 - Validation Loss: 0.6933, Validation Accuracy: 0.4996\n",
      "Epoch 15/30 - Train Loss: 0.6896, Train Accuracy: 0.5162 - Validation Loss: 0.6936, Validation Accuracy: 0.4999\n",
      "Epoch 16/30 - Train Loss: 0.6882, Train Accuracy: 0.5187 - Validation Loss: 0.6937, Validation Accuracy: 0.4997\n",
      "Epoch 17/30 - Train Loss: 0.6857, Train Accuracy: 0.5211 - Validation Loss: 0.6946, Validation Accuracy: 0.4998\n",
      "Epoch 18/30 - Train Loss: 0.6830, Train Accuracy: 0.5225 - Validation Loss: 0.6956, Validation Accuracy: 0.4993\n",
      "Epoch 19/30 - Train Loss: 0.6793, Train Accuracy: 0.5247 - Validation Loss: 0.6976, Validation Accuracy: 0.5005\n",
      "Epoch 20/30 - Train Loss: 0.6760, Train Accuracy: 0.5264 - Validation Loss: 0.7000, Validation Accuracy: 0.5016\n",
      "Epoch 21/30 - Train Loss: 0.6726, Train Accuracy: 0.5287 - Validation Loss: 0.7032, Validation Accuracy: 0.5010\n",
      "Epoch 22/30 - Train Loss: 0.6693, Train Accuracy: 0.5297 - Validation Loss: 0.7067, Validation Accuracy: 0.5010\n",
      "Epoch 23/30 - Train Loss: 0.6678, Train Accuracy: 0.5312 - Validation Loss: 0.7098, Validation Accuracy: 0.5007\n",
      "Epoch 24/30 - Train Loss: 0.6647, Train Accuracy: 0.5323 - Validation Loss: 0.7127, Validation Accuracy: 0.5008\n",
      "Epoch 25/30 - Train Loss: 0.6629, Train Accuracy: 0.5328 - Validation Loss: 0.7152, Validation Accuracy: 0.5013\n",
      "Epoch 26/30 - Train Loss: 0.6612, Train Accuracy: 0.5334 - Validation Loss: 0.7189, Validation Accuracy: 0.5016\n",
      "Epoch 27/30 - Train Loss: 0.6600, Train Accuracy: 0.5342 - Validation Loss: 0.7230, Validation Accuracy: 0.5015\n",
      "Epoch 28/30 - Train Loss: 0.6590, Train Accuracy: 0.5347 - Validation Loss: 0.7306, Validation Accuracy: 0.5012\n",
      "Epoch 29/30 - Train Loss: 0.6581, Train Accuracy: 0.5350 - Validation Loss: 0.7334, Validation Accuracy: 0.5022\n",
      "Epoch 30/30 - Train Loss: 0.6580, Train Accuracy: 0.5353 - Validation Loss: 0.7324, Validation Accuracy: 0.5024\n"
     ]
    }
   ],
   "source": [
    "# PyTorch를 이용한 감성 분석 모델 훈련\n",
    "import torch.optim as optim  # 최적화 도구 모음\n",
    "import torch.nn.functional as F  # 활성화 함수, 손실 함수 등\n",
    "from torch.utils.data import DataLoader, TensorDataset  # 데이터 로딩 유틸리티\n",
    "\n",
    "optimizer = optim.Adam(model.parameters())  # 모델의 파라미터를 업데이트할 Adam 최적화 도구 설정\n",
    "loss_fn = torch.nn.BCELoss()  # 이진 분류에 적합한 Binary Cross Entropy 손실 함수 설정\n",
    "\n",
    "partial_x_train_tensor = torch.tensor(partial_x_train, dtype=torch.long)  # 훈련용 입력 데이터를 PyTorch 텐서로 변환\n",
    "partial_y_train_tensor = torch.tensor(partial_y_train, dtype=torch.float)  # 훈련용 라벨 데이터를 PyTorch 텐서로 변환 (BCELoss를 위해 float 타입 사용)\n",
    "\n",
    "x_val_tensor = torch.tensor(x_val, dtype=torch.long)  # 검증용 입력 데이터를 PyTorch 텐서로 변환\n",
    "y_val_tensor = torch.tensor(y_val, dtype=torch.float)  # 검증용 라벨 데이터를 PyTorch 텐서로 변환\n",
    "\n",
    "train_dataset = TensorDataset(partial_x_train_tensor, partial_y_train_tensor)  # 훈련 데이터와 라벨을 묶어 데이터셋 생성\n",
    "val_dataset = TensorDataset(x_val_tensor, y_val_tensor)  # 검증 데이터와 라벨을 묶어 데이터셋 생성\n",
    "\n",
    "train_loader = DataLoader(train_dataset, batch_size=512, shuffle=True)  # 훈련용 데이터로더 생성 (배치 크기 512, 데이터 섞기)\n",
    "val_loader = DataLoader(val_dataset, batch_size=512, shuffle=False)  # 검증용 데이터로더 생성 (배치 크기 512, 데이터 섞지 않음)\n",
    "\n",
    "epochs = 30  # 훈련 반복 횟수 설정\n",
    "train_losses = []  # 에포크별 훈련 손실을 저장할 리스트\n",
    "val_losses = []  # 에포크별 검증 손실을 저장할 리스트\n",
    "train_accs = []  # 에포크별 훈련 정확도를 저장할 리스트\n",
    "val_accs = []  # 에포크별 검증 정확도를 저장할 리스트\n",
    "\n",
    "for epoch in range(epochs):\n",
    "    # 훈련 단계 시작\n",
    "    model.train()  # 모델을 훈련 모드로 설정\n",
    "    running_loss = 0.0  # 현재 에포크의 누적 손실 초기화\n",
    "    correct = 0  # 현재 에포크의 정답 수 초기화\n",
    "    total = 0  # 현재 에포크의 전체 데이터 수 초기화\n",
    "\n",
    "    for inputs, labels in train_loader:\n",
    "        optimizer.zero_grad()  # 이전 스텝에서 계산된 기울기 초기화\n",
    "\n",
    "        outputs = model(inputs)  # 모델에 입력 데이터를 넣어 예측값 계산\n",
    "        loss = loss_fn(outputs.squeeze(), labels)  # 예측값과 실제 라벨 간의 손실 계산\n",
    "        loss.backward()  # 손실에 대한 기울기 역전파\n",
    "        optimizer.step()  # 모델의 파라미터 업데이트\n",
    "\n",
    "        running_loss += loss.item()  # 현재 배치 손실을 누적\n",
    "        predicted = (outputs.squeeze() > 0.5).float()  # 예측값이 0.5보다 크면 긍정(1), 아니면 부정(0)으로 판단\n",
    "        correct += (predicted == labels).sum().item()  # 맞춘 개수 누적\n",
    "        total += labels.size(0)  # 전체 데이터 수 누적\n",
    "\n",
    "    train_losses.append(running_loss / len(train_loader))  # 에포크별 평균 훈련 손실 기록\n",
    "    train_accs.append(correct / total)  # 에포크별 훈련 정확도 기록\n",
    "\n",
    "    # 검증 단계 시작\n",
    "    model.eval()  # 모델을 평가 모드로 설정\n",
    "    val_loss = 0.0  # 현재 에포크의 누적 검증 손실 초기화\n",
    "    val_correct = 0  # 현재 에포크의 정답 수 초기화\n",
    "    val_total = 0  # 현재 에포크의 전체 데이터 수 초기화\n",
    "\n",
    "    with torch.no_grad():  # 기울기 계산을 비활성화 (메모리 절약, 연산 속도 향상)\n",
    "        for inputs, labels in val_loader:\n",
    "            outputs = model(inputs)  # 모델에 입력 데이터를 넣어 예측값 계산\n",
    "            loss = loss_fn(outputs.squeeze(), labels)  # 손실 계산\n",
    "\n",
    "            val_loss += loss.item()  # 현재 배치 손실을 누적\n",
    "            predicted = (outputs.squeeze() > 0.5).float()  # 예측값 기반으로 정답 판단\n",
    "            val_correct += (predicted == labels).sum().item()  # 맞춘 개수 누적\n",
    "            val_total += labels.size(0)  # 전체 데이터 수 누적\n",
    "\n",
    "    val_losses.append(val_loss / len(val_loader))  # 에포크별 평균 검증 손실 기록\n",
    "    val_accs.append(val_correct / val_total)  # 에포크별 검증 정확도 기록\n",
    "\n",
    "    # 에포크별 결과 출력\n",
    "    print(f\"Epoch {epoch+1}/{epochs} - \"\n",
    "          f\"Train Loss: {train_losses[-1]:.4f}, Train Accuracy: {train_accs[-1]:.4f} - \"\n",
    "          f\"Validation Loss: {val_losses[-1]:.4f}, Validation Accuracy: {val_accs[-1]:.4f}\")"
   ]
  },
  {
   "cell_type": "code",
   "execution_count": 17,
   "id": "325353e7-4431-4f73-84db-9b32b92b3d72",
   "metadata": {},
   "outputs": [
    {
     "name": "stdout",
     "output_type": "stream",
     "text": [
      "Test Loss: 0.7285, Test Accuracy: 0.5057\n"
     ]
    }
   ],
   "source": [
    "# 훈련된 모델의 성능을 테스트 데이터셋으로 평가\n",
    "test_dataset = TensorDataset(x_test_tensor, torch.tensor(y_test, dtype=torch.float32))  # 테스트 데이터와 라벨을 PyTorch 데이터셋으로 묶음\n",
    "test_loader = DataLoader(test_dataset, batch_size=512, shuffle=False)  # 테스트 데이터셋을 효율적으로 로드하기 위한 데이터로더 생성\n",
    "\n",
    "model.eval()  # 모델을 평가 모드로 전환 (Dropout, BatchNorm 등의 동작을 멈춤)\n",
    "test_loss = 0.0  # 테스트 손실 합계를 초기화\n",
    "test_correct = 0  # 맞춘 정답 개수를 초기화\n",
    "test_total = 0  # 전체 테스트 데이터 개수를 초기화\n",
    "\n",
    "with torch.no_grad():  # 기울기 계산을 비활성화하여 메모리와 연산 효율 최적화\n",
    "    for inputs, labels in test_loader:\n",
    "        outputs = model(inputs)  # 모델에 테스트 데이터를 입력하여 예측값 생성\n",
    "        loss = loss_fn(outputs.squeeze(), labels)  # 예측값과 실제 라벨 간의 손실 계산\n",
    "\n",
    "        test_loss += loss.item()  # 배치 손실을 누적\n",
    "        predicted = (outputs.squeeze() > 0.5).float()  # 예측값이 0.5보다 크면 긍정(1), 아니면 부정(0)으로 판단\n",
    "        test_correct += (predicted == labels).sum().item()  # 예측이 맞은 개수를 누적\n",
    "        test_total += labels.size(0)  # 전체 테스트 데이터 개수를 누적\n",
    "\n",
    "print(f\"Test Loss: {test_loss / len(test_loader):.4f}, Test Accuracy: {test_correct / test_total:.4f}\")  # 최종 평균 손실과 정확도 출력"
   ]
  },
  {
   "cell_type": "code",
   "execution_count": 18,
   "id": "de5b8cf5-ded2-40ad-8d7f-a4d3a5674b37",
   "metadata": {},
   "outputs": [
    {
     "data": {
      "image/png": "[encoded data removed]",
      "text/plain": [
       "<Figure size 640x480 with 1 Axes>"
      ]
     },
     "metadata": {},
     "output_type": "display_data"
    }
   ],
   "source": [
    "# 훈련 및 검증 손실 시각화\n",
    "import matplotlib.pyplot as plt  # 그래프를 그리는 라이브러리\n",
    "\n",
    "epochs_range = range(1, epochs + 1)  # 그래프의 x축이 될 에포크 범위를 생성\n",
    "\n",
    "# \"bo\"는 \"파란색 점\"입니다\n",
    "plt.plot(epochs_range, train_losses, 'bo', label='Training loss')  # 에포크별 훈련 손실을 파란색 점으로 표시\n",
    "# b는 \"파란 실선\"입니다\n",
    "plt.plot(epochs_range, val_losses, 'b', label='Validation loss')  # 에포크별 검증 손실을 파란색 실선으로 표시\n",
    "plt.title('Training and Validation Loss')  # 그래프의 제목 설정\n",
    "plt.xlabel('Epochs')  # x축의 라벨 설정\n",
    "plt.ylabel('Loss')  # y축의 라벨 설정\n",
    "plt.legend()  # 범례 표시\n",
    "plt.show()  # 그래프 출력"
   ]
  },
  {
   "cell_type": "code",
   "execution_count": 19,
   "id": "fe75ccca-2ca1-45f8-bb9b-ba70639e175b",
   "metadata": {},
   "outputs": [
    {
     "data": {
      "image/png": "[encoded data removed]",
      "text/plain": [
       "<Figure size 640x480 with 1 Axes>"
      ]
     },
     "metadata": {},
     "output_type": "display_data"
    }
   ],
   "source": [
    "# 훈련 및 검증 정확도 시각화\n",
    "plt.clf()  # 이전에 그린 그래프를 초기화\n",
    "\n",
    "# \"bo\"는 \"파란색 점\"입니다\n",
    "plt.plot(epochs_range, train_accs, 'bo', label='Training accuracy')  # 에포크별 훈련 정확도를 파란색 점으로 표시\n",
    "# b는 \"파란 실선\"입니다\n",
    "plt.plot(epochs_range, val_accs, 'b', label='Validation accuracy')  # 에포크별 검증 정확도를 파란색 실선으로 표시\n",
    "plt.title('Training and Validation Accuracy')  # 그래프의 제목 설정\n",
    "plt.xlabel('Epochs')  # x축의 라벨 설정\n",
    "plt.ylabel('Accuracy')  # y축의 라벨 설정\n",
    "plt.legend()  # 범례 표시\n",
    "plt.show()  # 그래프 출력"
   ]
  },
  {
   "cell_type": "code",
   "execution_count": 20,
   "id": "cacb1254-20eb-4098-a2f5-f323537dcb16",
   "metadata": {},
   "outputs": [
    {
     "name": "stdout",
     "output_type": "stream",
     "text": [
      "Requirement already satisfied: gensim==4.3.2 in /opt/conda/lib/python3.12/site-packages (4.3.2)\n",
      "Requirement already satisfied: numpy>=1.18.5 in /opt/conda/lib/python3.12/site-packages (from gensim==4.3.2) (1.26.4)\n",
      "Requirement already satisfied: scipy>=1.7.0 in /opt/conda/lib/python3.12/site-packages (from gensim==4.3.2) (1.11.4)\n",
      "Requirement already satisfied: smart_open>=1.8.1 in /opt/conda/lib/python3.12/site-packages (from gensim==4.3.2) (7.3.0.post1)\n",
      "Requirement already satisfied: wrapt in /opt/conda/lib/python3.12/site-packages (from smart_open>=1.8.1->gensim==4.3.2) (1.17.2)\n",
      "Collecting scipy==1.12.0\n",
      "  Using cached scipy-1.12.0-cp312-cp312-manylinux_2_17_x86_64.manylinux2014_x86_64.whl.metadata (60 kB)\n",
      "Collecting numpy==1.26.3\n",
      "  Using cached numpy-1.26.3-cp312-cp312-manylinux_2_17_x86_64.manylinux2014_x86_64.whl.metadata (61 kB)\n",
      "Using cached scipy-1.12.0-cp312-cp312-manylinux_2_17_x86_64.manylinux2014_x86_64.whl (37.8 MB)\n",
      "Using cached numpy-1.26.3-cp312-cp312-manylinux_2_17_x86_64.manylinux2014_x86_64.whl (18.0 MB)\n",
      "Installing collected packages: numpy, scipy\n",
      "\u001b[2K  Attempting uninstall: numpy\n",
      "\u001b[2K    Found existing installation: numpy 1.26.4\n",
      "\u001b[2K    Uninstalling numpy-1.26.4:\n",
      "\u001b[2K      Successfully uninstalled numpy-1.26.4\n",
      "\u001b[2K  Attempting uninstall: scipy━━━━━━━━━━━━━━━━━━━\u001b[0m \u001b[32m0/2\u001b[0m [numpy]\n",
      "\u001b[2K    Found existing installation: scipy 1.11.4[0m \u001b[32m0/2\u001b[0m [numpy]\n",
      "\u001b[2K    Uninstalling scipy-1.11.4:━━━━━━━━━━━━━━\u001b[0m \u001b[32m0/2\u001b[0m [numpy]\n",
      "\u001b[2K      Successfully uninstalled scipy-1.11.4[90m━━━━━━━━━━━━━━━━━━━\u001b[0m \u001b[32m1/2\u001b[0m [scipy]\n",
      "\u001b[2K   \u001b[90m━━━━━━━━━━━━━━━━━━━━━━━━━━━━━━━━━━━━━━━━\u001b[0m \u001b[32m2/2\u001b[0m [scipy]32m1/2\u001b[0m [scipy]\n",
      "\u001b[1A\u001b[2KSuccessfully installed numpy-1.26.3 scipy-1.12.0\n"
     ]
    }
   ],
   "source": [
    "# 워드 벡터 저장 디렉토리 생성 및 관련 패키지 설치\n",
    "!mkdir -p sentiment_classification/data  # 워드 벡터 파일을 저장할 디렉토리를 생성. -p 옵션은 상위 디렉토리가 없으면 함께 생성함.\n",
    "!pip install gensim==4.3.2  # 워드 임베딩을 다루는 데 사용되는 gensim 라이브러리 설치 (버전 4.3.2 지정)\n",
    "!pip install scipy==1.12.0 numpy==1.26.3  # gensim의 종속성(dependency)인 scipy와 numpy 라이브러리 설치 (각각 특정 버전 지정)"
   ]
  },
  {
   "cell_type": "code",
   "execution_count": null,
   "id": "73f40ff5-094a-4e80-a9f7-bd524088a59e",
   "metadata": {},
   "outputs": [],
   "source": []
  },
  {
   "cell_type": "code",
   "execution_count": 21,
   "id": "0b95ae8c-133f-4011-9ede-f272814b0077",
   "metadata": {},
   "outputs": [
    {
     "name": "stdout",
     "output_type": "stream",
     "text": [
      "mkdir: cannot create directory ‘/home/jovyan/work/sentiment_classification/word2vec_emb’: File exists\n"
     ]
    }
   ],
   "source": [
    "# 워드 벡터 저장용 디렉토리 생성\n",
    "!mkdir ~/work/sentiment_classification/word2vec_emb  # 사용자의 홈 디렉토리 내에 워드 벡터 저장용 디렉토리를 생성"
   ]
  },
  {
   "cell_type": "code",
   "execution_count": 22,
   "id": "d9356d56-af05-4a5a-9fd9-5577b2fc8f84",
   "metadata": {},
   "outputs": [],
   "source": [
    "# 모델에서 학습된 워드 벡터를 텍스트 파일로 저장\n",
    "word2vec_file_path = os.path.join(os.getenv('HOME') + '/work/sentiment_classification/word2vec_emb/word2vec.txt')  # 저장할 파일의 전체 경로 설정\n",
    "\n",
    "with open(word2vec_file_path, 'w') as f:  # 'w' (쓰기) 모드로 파일을 열고 f 객체에 할당\n",
    "    f.write('{} {}\\n'.format(vocab_size - 4, word_vector_dim))  # 파일의 첫 줄에 전체 단어 수(특수 토큰 4개 제외)와 벡터 차원을 기록\n",
    "\n",
    "    # 훈련된 모델의 Embedding 레이어에서 워드 벡터 가져오기\n",
    "    vectors = model.embedding.weight.detach().cpu().numpy()  # 모델의 임베딩 가중치를 numpy 배열로 변환\n",
    "\n",
    "    # 특수 토큰을 제외한 모든 단어의 워드 벡터를 파일에 기록\n",
    "    for i in range(4, vocab_size):  # 인덱스 4부터 시작하여 모든 단어에 대해 반복\n",
    "        f.write('{} {}\\n'.format(index_to_word[i], ' '.join(map(str, vectors[i, :]))))  # \"단어 워드벡터값\" 형식으로 한 줄씩 파일에 작성"
   ]
  },
  {
   "cell_type": "code",
   "execution_count": 23,
   "id": "67f2e73e-d8db-4eab-a8ab-4f7867e243a8",
   "metadata": {},
   "outputs": [
    {
     "name": "stdout",
     "output_type": "stream",
     "text": [
      "Requirement already satisfied: konlpy in /opt/conda/lib/python3.12/site-packages (0.6.0)\n",
      "Requirement already satisfied: JPype1>=0.7.0 in /opt/conda/lib/python3.12/site-packages (from konlpy) (1.6.0)\n",
      "Requirement already satisfied: lxml>=4.1.0 in /opt/conda/lib/python3.12/site-packages (from konlpy) (6.0.0)\n",
      "Requirement already satisfied: numpy>=1.6 in /opt/conda/lib/python3.12/site-packages (from konlpy) (1.26.3)\n",
      "Requirement already satisfied: packaging in /opt/conda/lib/python3.12/site-packages (from JPype1>=0.7.0->konlpy) (25.0)\n"
     ]
    }
   ],
   "source": [
    "!pip install konlpy"
   ]
  },
  {
   "cell_type": "code",
   "execution_count": 25,
   "id": "8db6750f-97f7-49cb-8b14-7119bae256d9",
   "metadata": {},
   "outputs": [
    {
     "data": {
      "text/plain": [
       "array([-1.9215647 ,  0.04042735, -1.1951156 , -0.39904854, -1.7748142 ,\n",
       "       -1.0953999 ,  0.25793186,  0.90044105, -1.7142733 ,  0.9581672 ,\n",
       "        1.1075758 , -1.111144  ,  0.5457934 , -1.0159205 , -0.17271557,\n",
       "        0.04986871], dtype=float32)"
      ]
     },
     "execution_count": 25,
     "metadata": {},
     "output_type": "execute_result"
    }
   ],
   "source": [
    "# Word2VecKeyedVectors를 사용하여 'computer' 단어의 워드 벡터 확인\n",
    "from gensim.models.keyedvectors import Word2VecKeyedVectors  # Word2Vec 모델의 핵심인 KeyedVectors 모듈을 불러옴\n",
    "\n",
    "word_vectors = Word2VecKeyedVectors.load_word2vec_format(word2vec_file_path, binary=False)  # 저장된 텍스트 파일을 불러와 Word2VecKeyedVectors 객체 생성\n",
    "vector = word_vectors['computer']  # 'computer' 단어에 해당하는 벡터를 가져와서 vector 변수에 할당\n",
    "vector  # vector 변수의 값을 출력하여 벡터 값 확인"
   ]
  },
  {
   "cell_type": "code",
   "execution_count": 26,
   "id": "0a51bf3e-1098-4726-956e-ceb3e2984c33",
   "metadata": {},
   "outputs": [
    {
     "data": {
      "text/plain": [
       "[('affecting', 0.8433532118797302),\n",
       " ('unit', 0.7949129939079285),\n",
       " ('hired', 0.7716190218925476),\n",
       " ('convincing', 0.7549298405647278),\n",
       " ('carpet', 0.7421450018882751),\n",
       " ('christmas', 0.7362399101257324),\n",
       " ('groove', 0.733951985836029),\n",
       " ('luckily', 0.7081587910652161),\n",
       " ('author', 0.7050560116767883),\n",
       " ('open', 0.6996666193008423)]"
      ]
     },
     "execution_count": 26,
     "metadata": {},
     "output_type": "execute_result"
    }
   ],
   "source": [
    "# 'love'와 가장 유사한 단어 찾기\n",
    "word_vectors.similar_by_word(\"love\")  # Word2VecKeyedVectors 객체의 similar_by_word 메서드를 사용해 'love'와 유사한 단어들을 반환"
   ]
  },
  {
   "cell_type": "code",
   "execution_count": 28,
   "id": "7906a7b3-c4a4-444e-ac37-11eec17417a4",
   "metadata": {},
   "outputs": [
    {
     "name": "stdout",
     "output_type": "stream",
     "text": [
      "mv: cannot stat '/home/jovyan/Downloads/GoogleNews-vectors-negative300.bin.gz': No such file or directory\n"
     ]
    }
   ],
   "source": [
    "# 다운로드한 Google Word2Vec 모델 파일을 작업 디렉토리로 이동\n",
    "# ! mv ~/Downloads/GoogleNews-vectors-negative300.bin.gz ~/work/sentiment_classification  # GoogleNews-vectors... 파일을 사용자의 다운로드 폴더에서 sentiment_classification 폴더로 이동"
   ]
  },
  {
   "cell_type": "code",
   "execution_count": 29,
   "id": "e35afb7d-5c30-4d3b-976c-d1bc8488ef53",
   "metadata": {},
   "outputs": [
    {
     "data": {
      "text/plain": [
       "array([ 1.07421875e-01, -2.01171875e-01,  1.23046875e-01,  2.11914062e-01,\n",
       "       -9.13085938e-02,  2.16796875e-01, -1.31835938e-01,  8.30078125e-02,\n",
       "        2.02148438e-01,  4.78515625e-02,  3.66210938e-02, -2.45361328e-02,\n",
       "        2.39257812e-02, -1.60156250e-01, -2.61230469e-02,  9.71679688e-02,\n",
       "       -6.34765625e-02,  1.84570312e-01,  1.70898438e-01, -1.63085938e-01,\n",
       "       -1.09375000e-01,  1.49414062e-01, -4.65393066e-04,  9.61914062e-02,\n",
       "        1.68945312e-01,  2.60925293e-03,  8.93554688e-02,  6.49414062e-02,\n",
       "        3.56445312e-02, -6.93359375e-02, -1.46484375e-01, -1.21093750e-01,\n",
       "       -2.27539062e-01,  2.45361328e-02, -1.24511719e-01, -3.18359375e-01,\n",
       "       -2.20703125e-01,  1.30859375e-01,  3.66210938e-02, -3.63769531e-02,\n",
       "       -1.13281250e-01,  1.95312500e-01,  9.76562500e-02,  1.26953125e-01,\n",
       "        6.59179688e-02,  6.93359375e-02,  1.02539062e-02,  1.75781250e-01,\n",
       "       -1.68945312e-01,  1.21307373e-03, -2.98828125e-01, -1.15234375e-01,\n",
       "        5.66406250e-02, -1.77734375e-01, -2.08984375e-01,  1.76757812e-01,\n",
       "        2.38037109e-02, -2.57812500e-01, -4.46777344e-02,  1.88476562e-01,\n",
       "        5.51757812e-02,  5.02929688e-02, -1.06933594e-01,  1.89453125e-01,\n",
       "       -1.16210938e-01,  8.49609375e-02, -1.71875000e-01,  2.45117188e-01,\n",
       "       -1.73828125e-01, -8.30078125e-03,  4.56542969e-02, -1.61132812e-02,\n",
       "        1.86523438e-01, -6.05468750e-02, -4.17480469e-02,  1.82617188e-01,\n",
       "        2.20703125e-01, -1.22558594e-01, -2.55126953e-02, -3.08593750e-01,\n",
       "        9.13085938e-02,  1.60156250e-01,  1.70898438e-01,  1.19628906e-01,\n",
       "        7.08007812e-02, -2.64892578e-02, -3.08837891e-02,  4.06250000e-01,\n",
       "       -1.01562500e-01,  5.71289062e-02, -7.26318359e-03, -9.17968750e-02,\n",
       "       -1.50390625e-01, -2.55859375e-01,  2.16796875e-01, -3.63769531e-02,\n",
       "        2.24609375e-01,  8.00781250e-02,  1.56250000e-01,  5.27343750e-02,\n",
       "        1.50390625e-01, -1.14746094e-01, -8.64257812e-02,  1.19140625e-01,\n",
       "       -7.17773438e-02,  2.73437500e-01, -1.64062500e-01,  7.29370117e-03,\n",
       "        4.21875000e-01, -1.12792969e-01, -1.35742188e-01, -1.31835938e-01,\n",
       "       -1.37695312e-01, -7.66601562e-02,  6.25000000e-02,  4.98046875e-02,\n",
       "       -1.91406250e-01, -6.03027344e-02,  2.27539062e-01,  5.88378906e-02,\n",
       "       -3.24218750e-01,  5.41992188e-02, -1.35742188e-01,  8.17871094e-03,\n",
       "       -5.24902344e-02, -1.74713135e-03, -9.81445312e-02, -2.86865234e-02,\n",
       "        3.61328125e-02,  2.15820312e-01,  5.98144531e-02, -3.08593750e-01,\n",
       "       -2.27539062e-01,  2.61718750e-01,  9.86328125e-02, -5.07812500e-02,\n",
       "        1.78222656e-02,  1.31835938e-01, -5.35156250e-01, -1.81640625e-01,\n",
       "        1.38671875e-01, -3.10546875e-01, -9.71679688e-02,  1.31835938e-01,\n",
       "       -1.16210938e-01,  7.03125000e-02,  2.85156250e-01,  3.51562500e-02,\n",
       "       -1.01562500e-01, -3.75976562e-02,  1.41601562e-01,  1.42578125e-01,\n",
       "       -5.68847656e-02,  2.65625000e-01, -2.09960938e-01,  9.64355469e-03,\n",
       "       -6.68945312e-02, -4.83398438e-02, -6.10351562e-02,  2.45117188e-01,\n",
       "       -9.66796875e-02,  1.78222656e-02, -1.27929688e-01, -4.78515625e-02,\n",
       "       -7.26318359e-03,  1.79687500e-01,  2.78320312e-02, -2.10937500e-01,\n",
       "       -1.43554688e-01, -1.27929688e-01,  1.73339844e-02, -3.60107422e-03,\n",
       "       -2.04101562e-01,  3.63159180e-03, -1.19628906e-01, -6.15234375e-02,\n",
       "        5.93261719e-02, -3.23486328e-03, -1.70898438e-01, -3.14941406e-02,\n",
       "       -8.88671875e-02, -2.89062500e-01,  3.44238281e-02, -1.87500000e-01,\n",
       "        2.94921875e-01,  1.58203125e-01, -1.19628906e-01,  7.61718750e-02,\n",
       "        6.39648438e-02, -4.68750000e-02, -6.83593750e-02,  1.21459961e-02,\n",
       "       -1.44531250e-01,  4.54101562e-02,  3.68652344e-02,  3.88671875e-01,\n",
       "        1.45507812e-01, -2.55859375e-01, -4.46777344e-02, -1.33789062e-01,\n",
       "       -1.38671875e-01,  6.59179688e-02,  1.37695312e-01,  1.14746094e-01,\n",
       "        2.03125000e-01, -4.78515625e-02,  1.80664062e-02, -8.54492188e-02,\n",
       "       -2.48046875e-01, -3.39843750e-01, -2.83203125e-02,  1.05468750e-01,\n",
       "       -2.14843750e-01, -8.74023438e-02,  7.12890625e-02,  1.87500000e-01,\n",
       "       -1.12304688e-01,  2.73437500e-01, -3.26171875e-01, -1.77734375e-01,\n",
       "       -4.24804688e-02, -2.69531250e-01,  6.64062500e-02, -6.88476562e-02,\n",
       "       -1.99218750e-01, -7.03125000e-02, -2.43164062e-01, -3.66210938e-02,\n",
       "       -7.37304688e-02, -1.77734375e-01,  9.17968750e-02, -1.25000000e-01,\n",
       "       -1.65039062e-01, -3.57421875e-01, -2.85156250e-01, -1.66992188e-01,\n",
       "        1.97265625e-01, -1.53320312e-01,  2.31933594e-02,  2.06054688e-01,\n",
       "        1.80664062e-01, -2.74658203e-02, -1.92382812e-01, -9.61914062e-02,\n",
       "       -1.06811523e-02, -4.73632812e-02,  6.54296875e-02, -1.25732422e-02,\n",
       "        1.78222656e-02, -8.00781250e-02, -2.59765625e-01,  9.37500000e-02,\n",
       "       -7.81250000e-02,  4.68750000e-02, -2.22167969e-02,  1.86767578e-02,\n",
       "        3.11279297e-02,  1.04980469e-02, -1.69921875e-01,  2.58789062e-02,\n",
       "       -3.41796875e-02, -1.44042969e-02, -5.46875000e-02, -8.78906250e-02,\n",
       "        1.96838379e-03,  2.23632812e-01, -1.36718750e-01,  1.75781250e-01,\n",
       "       -1.63085938e-01,  1.87500000e-01,  3.44238281e-02, -5.63964844e-02,\n",
       "       -2.27689743e-05,  4.27246094e-02,  5.81054688e-02, -1.07910156e-01,\n",
       "       -3.88183594e-02, -2.69531250e-01,  3.34472656e-02,  9.81445312e-02,\n",
       "        5.63964844e-02,  2.23632812e-01, -5.49316406e-02,  1.46484375e-01,\n",
       "        5.93261719e-02, -2.19726562e-01,  6.39648438e-02,  1.66015625e-02,\n",
       "        4.56542969e-02,  3.26171875e-01, -3.80859375e-01,  1.70898438e-01,\n",
       "        5.66406250e-02, -1.04492188e-01,  1.38671875e-01, -1.57226562e-01,\n",
       "        3.23486328e-03, -4.80957031e-02, -2.48046875e-01, -6.20117188e-02],\n",
       "      dtype=float32)"
      ]
     },
     "execution_count": 29,
     "metadata": {},
     "output_type": "execute_result"
    }
   ],
   "source": [
    "# 사전 학습된 Google Word2Vec 모델 로드\n",
    "from gensim.models import KeyedVectors  # Word2Vec 벡터를 다루는 데 필요한 KeyedVectors 모듈 임포트\n",
    "\n",
    "word2vec_path = data_dir + 'GoogleNews-vectors-negative300.bin.gz'  # Google Word2Vec 모델 파일 경로 설정\n",
    "word2vec = KeyedVectors.load_word2vec_format(word2vec_path, binary=True, limit=1000000)  # 지정된 경로의 바이너리 파일을 불러옴\n",
    "vector = word2vec['computer']  # 불러온 모델에서 'computer' 단어의 벡터를 가져와서 vector 변수에 할당\n",
    "vector  # vector 변수에 저장된 벡터 값 출력"
   ]
  },
  {
   "cell_type": "code",
   "execution_count": 30,
   "id": "5e44c8a9-5460-4da6-bff3-cfef87c4a393",
   "metadata": {},
   "outputs": [
    {
     "data": {
      "text/plain": [
       "[('loved', 0.6907791495323181),\n",
       " ('adore', 0.6816873550415039),\n",
       " ('loves', 0.661863386631012),\n",
       " ('passion', 0.6100708842277527),\n",
       " ('hate', 0.600395679473877),\n",
       " ('loving', 0.5886635780334473),\n",
       " ('affection', 0.5664337873458862),\n",
       " ('undying_love', 0.5547304749488831),\n",
       " ('absolutely_adore', 0.5536840558052063),\n",
       " ('adores', 0.5440906882286072)]"
      ]
     },
     "execution_count": 30,
     "metadata": {},
     "output_type": "execute_result"
    }
   ],
   "source": [
    "# 'love' 단어와 유사한 단어 찾기\n",
    "word2vec.similar_by_word(\"love\")  # 사전 학습된 word2vec 모델에서 'love'와 가장 유사한 단어들을 유사도 점수와 함께 반환"
   ]
  },
  {
   "cell_type": "code",
   "execution_count": 31,
   "id": "a21705f4-9897-45f7-856a-03d87f55c5a5",
   "metadata": {},
   "outputs": [],
   "source": [
    "# Google Word2Vec 모델의 워드 벡터를 embedding_matrix에 복사\n",
    "vocab_size = 10000  # 모델이 사용할 총 단어의 개수\n",
    "word_vector_dim = 300  # 워드 벡터의 차원 (Google Word2Vec과 동일하게 300으로 설정)\n",
    "embedding_matrix = np.random.rand(vocab_size, word_vector_dim)  # 임의의 값으로 초기화된 임베딩 행렬 생성\n",
    "\n",
    "# embedding_matrix에 Word2Vec 워드 벡터를 단어 하나씩마다 차례차례 카피\n",
    "for i in range(4, vocab_size):  # 단어 인덱스 4부터 시작하여 모든 단어에 대해 반복\n",
    "    if index_to_word[i] in word2vec:  # 현재 단어가 Google Word2Vec 모델에 포함되어 있는지 확인\n",
    "        embedding_matrix[i] = word2vec[index_to_word[i]]  # 포함되어 있다면, 해당 단어의 워드 벡터를 embedding_matrix의 i번째 행에 복사"
   ]
  },
  {
   "cell_type": "code",
   "execution_count": 33,
   "id": "6cd52905-7718-475a-a7e3-bf3576343278",
   "metadata": {},
   "outputs": [
    {
     "name": "stdout",
     "output_type": "stream",
     "text": [
      "SentimentModel(\n",
      "  (embedding): Embedding(10000, 300)\n",
      "  (conv1): Conv1d(300, 16, kernel_size=(7,), stride=(1,))\n",
      "  (pool): MaxPool1d(kernel_size=5, stride=5, padding=0, dilation=1, ceil_mode=False)\n",
      "  (conv2): Conv1d(16, 16, kernel_size=(7,), stride=(1,))\n",
      "  (global_max_pool): AdaptiveMaxPool1d(output_size=1)\n",
      "  (fc1): Linear(in_features=16, out_features=8, bias=True)\n",
      "  (fc2): Linear(in_features=8, out_features=1, bias=True)\n",
      ")\n"
     ]
    }
   ],
   "source": [
    "# 사전 학습된 워드 벡터를 사용하는 CNN 기반 감성 분석 모델 정의 및 구조 출력\n",
    "import torch\n",
    "import torch.nn as nn\n",
    "import torch.nn.functional as F\n",
    "\n",
    "# 모델 설계 - nn.Module을 상속받아 SentimentModel 클래스 정의\n",
    "class SentimentModel(nn.Module):\n",
    "    def __init__(self, vocab_size, word_vector_dim, embedding_matrix, maxlen):\n",
    "        super(SentimentModel, self).__init__()  # nn.Module의 생성자 호출\n",
    "        self.embedding = nn.Embedding(vocab_size, word_vector_dim)  # 단어 임베딩 레이어 정의\n",
    "        #self.embedding.weight = nn.Parameter(torch.tensor(embedding_matrix, dtype=torch.float32))  # 사전 학습된 워드 벡터를 임베딩 레이어의 가중치로 설정\n",
    "        self.embedding.weight = nn.Parameter(embedding_matrix.detach().clone())\n",
    "        self.embedding.weight.requires_grad = True  # 임베딩 가중치 업데이트를 허용\n",
    "\n",
    "        self.conv1 = nn.Conv1d(in_channels=word_vector_dim, out_channels=16, kernel_size=7)  # 첫 번째 1D 합성곱 레이어\n",
    "        self.pool = nn.MaxPool1d(kernel_size=5)  # 최대 풀링 레이어\n",
    "        self.conv2 = nn.Conv1d(in_channels=16, out_channels=16, kernel_size=7)  # 두 번째 1D 합성곱 레이어\n",
    "        self.global_max_pool = nn.AdaptiveMaxPool1d(1)  # 전체 문장에서 가장 중요한 특징을 추출하는 글로벌 최대 풀링 레이어\n",
    "        self.fc1 = nn.Linear(16, 8)  # 완전 연결 레이어\n",
    "        self.fc2 = nn.Linear(8, 1)  # 최종 출력 레이어 (이진 분류)\n",
    "\n",
    "    # 모델의 순전파(forward) 로직을 정의\n",
    "    def forward(self, x):\n",
    "        x = self.embedding(x)  # 입력(단어 인덱스)을 워드 벡터로 변환 (batch, maxlen, word_vector_dim)\n",
    "        x = x.permute(0, 2, 1)  # CNN 처리를 위해 텐서 차원 변경 (batch, word_vector_dim, maxlen)\n",
    "        x = F.relu(self.conv1(x))  # 첫 번째 Conv1d 레이어와 ReLU 활성화 함수 통과\n",
    "        x = self.pool(x)  # MaxPool1d 레이어 통과\n",
    "        x = F.relu(self.conv2(x))  # 두 번째 Conv1d 레이어와 ReLU 활성화 함수 통과\n",
    "        x = self.global_max_pool(x).squeeze(2)  # GlobalMaxPool1d를 적용하여 1차원 벡터로 변환\n",
    "        x = F.relu(self.fc1(x))  # 완전 연결 레이어와 ReLU 활성화 함수 통과\n",
    "        x = torch.sigmoid(self.fc2(x))  # 최종 완전 연결 레이어와 시그모이드 활성화 함수 통과 (0~1)\n",
    "        return x\n",
    "\n",
    "vocab_size = 10000\n",
    "word_vector_dim = 300\n",
    "embedding_matrix = torch.randn(vocab_size, word_vector_dim)  # 임의의 값으로 임베딩 행렬 생성 (실제로는 Word2Vec으로 초기화)\n",
    "\n",
    "model = SentimentModel(vocab_size, word_vector_dim, embedding_matrix, maxlen)  # 모델 객체 생성\n",
    "print(model)  # 모델의 레이어 구조 출력"
   ]
  },
  {
   "cell_type": "code",
   "execution_count": 34,
   "id": "e7a82f9a-bbdc-4435-b77f-974b73ad971c",
   "metadata": {},
   "outputs": [
    {
     "name": "stderr",
     "output_type": "stream",
     "text": [
      "/tmp/ipykernel_1221/3059198656.py:8: UserWarning: To copy construct from a tensor, it is recommended to use sourceTensor.detach().clone() or sourceTensor.detach().clone().requires_grad_(True), rather than torch.tensor(sourceTensor).\n",
      "  partial_x_train_tensor = torch.tensor(partial_x_train, dtype=torch.long)  # 훈련용 입력 데이터를 PyTorch 텐서로 변환\n",
      "/tmp/ipykernel_1221/3059198656.py:11: UserWarning: To copy construct from a tensor, it is recommended to use sourceTensor.detach().clone() or sourceTensor.detach().clone().requires_grad_(True), rather than torch.tensor(sourceTensor).\n",
      "  x_val_tensor = torch.tensor(x_val, dtype=torch.long)  # 검증용 입력 데이터를 PyTorch 텐서로 변환\n"
     ]
    },
    {
     "name": "stdout",
     "output_type": "stream",
     "text": [
      "Epoch 1/20 - Train Loss: 0.6902, Train Accuracy: 0.5318 - Validation Loss: 0.6819, Validation Accuracy: 0.6001\n",
      "Epoch 2/20 - Train Loss: 0.6546, Train Accuracy: 0.6555 - Validation Loss: 0.6364, Validation Accuracy: 0.6483\n",
      "Epoch 3/20 - Train Loss: 0.5596, Train Accuracy: 0.7311 - Validation Loss: 0.5212, Validation Accuracy: 0.7494\n",
      "Epoch 4/20 - Train Loss: 0.4244, Train Accuracy: 0.8155 - Validation Loss: 0.4349, Validation Accuracy: 0.8016\n",
      "Epoch 5/20 - Train Loss: 0.3239, Train Accuracy: 0.8663 - Validation Loss: 0.3979, Validation Accuracy: 0.8170\n",
      "Epoch 6/20 - Train Loss: 0.2414, Train Accuracy: 0.9118 - Validation Loss: 0.3755, Validation Accuracy: 0.8313\n",
      "Epoch 7/20 - Train Loss: 0.1799, Train Accuracy: 0.9418 - Validation Loss: 0.3758, Validation Accuracy: 0.8374\n",
      "Epoch 8/20 - Train Loss: 0.1285, Train Accuracy: 0.9631 - Validation Loss: 0.3960, Validation Accuracy: 0.8374\n",
      "Epoch 9/20 - Train Loss: 0.0910, Train Accuracy: 0.9803 - Validation Loss: 0.3928, Validation Accuracy: 0.8411\n",
      "Epoch 10/20 - Train Loss: 0.0597, Train Accuracy: 0.9917 - Validation Loss: 0.4118, Validation Accuracy: 0.8429\n",
      "Epoch 11/20 - Train Loss: 0.0384, Train Accuracy: 0.9975 - Validation Loss: 0.4319, Validation Accuracy: 0.8434\n",
      "Epoch 12/20 - Train Loss: 0.0255, Train Accuracy: 0.9989 - Validation Loss: 0.4542, Validation Accuracy: 0.8441\n",
      "Epoch 13/20 - Train Loss: 0.0180, Train Accuracy: 0.9995 - Validation Loss: 0.4704, Validation Accuracy: 0.8452\n",
      "Epoch 14/20 - Train Loss: 0.0130, Train Accuracy: 0.9995 - Validation Loss: 0.4857, Validation Accuracy: 0.8463\n",
      "Epoch 15/20 - Train Loss: 0.0100, Train Accuracy: 0.9995 - Validation Loss: 0.5020, Validation Accuracy: 0.8461\n",
      "Epoch 16/20 - Train Loss: 0.0078, Train Accuracy: 0.9997 - Validation Loss: 0.5143, Validation Accuracy: 0.8469\n",
      "Epoch 17/20 - Train Loss: 0.0065, Train Accuracy: 0.9997 - Validation Loss: 0.5323, Validation Accuracy: 0.8449\n",
      "Epoch 18/20 - Train Loss: 0.0055, Train Accuracy: 0.9997 - Validation Loss: 0.5418, Validation Accuracy: 0.8461\n",
      "Epoch 19/20 - Train Loss: 0.0047, Train Accuracy: 0.9998 - Validation Loss: 0.5517, Validation Accuracy: 0.8461\n",
      "Epoch 20/20 - Train Loss: 0.0039, Train Accuracy: 0.9998 - Validation Loss: 0.5714, Validation Accuracy: 0.8453\n"
     ]
    }
   ],
   "source": [
    "# CNN 기반 감성 분석 모델 훈련\n",
    "import torch.optim as optim  # 최적화 도구 모음\n",
    "from torch.utils.data import DataLoader, TensorDataset  # 데이터 로딩 유틸리티\n",
    "\n",
    "optimizer = optim.Adam(model.parameters(), lr=0.001)  # Adam 최적화 도구 설정. 학습률(lr) 0.001 지정\n",
    "loss_fn = torch.nn.BCELoss()  # 이진 분류에 적합한 Binary Cross Entropy 손실 함수 설정\n",
    "\n",
    "partial_x_train_tensor = partial_x_train.detach().clone().to(torch.long)\n",
    "#partial_x_train_tensor = torch.tensor(partial_x_train, dtype=torch.long)\n",
    "# 훈련용 입력 데이터를 PyTorch 텐서로 변환\n",
    "partial_y_train_tensor = torch.tensor(partial_y_train, dtype=torch.float)  # 훈련용 라벨 데이터를 PyTorch 텐서로 변환 (BCELoss를 위해 float 타입 사용)\n",
    "\n",
    "x_val_tensor = x_val.detach().clone().to(torch.long)\n",
    "#x_val_tensor = torch.tensor(x_val, dtype=torch.long)  # 검증용 입력 데이터를 PyTorch 텐서로 변환\n",
    "y_val_tensor = torch.tensor(y_val, dtype=torch.float)  # 검증용 라벨 데이터를 PyTorch 텐서로 변환\n",
    "\n",
    "train_dataset = TensorDataset(partial_x_train_tensor, partial_y_train_tensor)  # 훈련 데이터와 라벨을 묶어 데이터셋 생성\n",
    "val_dataset = TensorDataset(x_val_tensor, y_val_tensor)  # 검증 데이터와 라벨을 묶어 데이터셋 생성\n",
    "\n",
    "train_loader = DataLoader(train_dataset, batch_size=512, shuffle=True)  # 훈련용 데이터로더 생성 (배치 크기 512, 데이터 섞기)\n",
    "val_loader = DataLoader(val_dataset, batch_size=512, shuffle=False)  # 검증용 데이터로더 생성 (배치 크기 512, 데이터 섞지 않음)\n",
    "\n",
    "epochs = 20  # 훈련 반복 횟수 설정\n",
    "train_losses = []  # 에포크별 훈련 손실을 저장할 리스트\n",
    "val_losses = []  # 에포크별 검증 손실을 저장할 리스트\n",
    "train_accs = []  # 에포크별 훈련 정확도를 저장할 리스트\n",
    "val_accs = []  # 에포크별 검증 정확도를 저장할 리스트\n",
    "\n",
    "for epoch in range(epochs):\n",
    "    # 훈련 단계\n",
    "    model.train()  # 모델을 훈련 모드로 설정\n",
    "    running_loss = 0.0\n",
    "    correct = 0\n",
    "    total = 0\n",
    "\n",
    "    for inputs, labels in train_loader:\n",
    "        optimizer.zero_grad()  # 이전 스텝에서 계산된 기울기 초기화\n",
    "\n",
    "        outputs = model(inputs)  # 모델에 입력 데이터를 넣어 예측값 계산\n",
    "        loss = loss_fn(outputs.squeeze(), labels)  # 예측값과 실제 라벨 간의 손실 계산\n",
    "        loss.backward()  # 손실에 대한 기울기 역전파\n",
    "        optimizer.step()  # 모델의 파라미터 업데이트\n",
    "\n",
    "        running_loss += loss.item()\n",
    "        predicted = (outputs.squeeze() > 0.5).float()\n",
    "        correct += (predicted == labels).sum().item()\n",
    "        total += labels.size(0)\n",
    "\n",
    "    train_losses.append(running_loss / len(train_loader))\n",
    "    train_accs.append(correct / total)\n",
    "\n",
    "    # 검증 단계\n",
    "    model.eval()  # 모델을 평가 모드로 설정\n",
    "    val_loss = 0.0\n",
    "    val_correct = 0\n",
    "    val_total = 0\n",
    "\n",
    "    with torch.no_grad():  # 기울기 계산을 비활성화\n",
    "        for inputs, labels in val_loader:\n",
    "            outputs = model(inputs)\n",
    "            loss = loss_fn(outputs.squeeze(), labels)\n",
    "\n",
    "            val_loss += loss.item()\n",
    "            predicted = (outputs.squeeze() > 0.5).float()\n",
    "            val_correct += (predicted == labels).sum().item()\n",
    "            val_total += labels.size(0)\n",
    "\n",
    "    val_losses.append(val_loss / len(val_loader))\n",
    "    val_accs.append(val_correct / val_total)\n",
    "\n",
    "    print(f\"Epoch {epoch+1}/{epochs} - \"\n",
    "          f\"Train Loss: {train_losses[-1]:.4f}, Train Accuracy: {train_accs[-1]:.4f} - \"\n",
    "          f\"Validation Loss: {val_losses[-1]:.4f}, Validation Accuracy: {val_accs[-1]:.4f}\")"
   ]
  },
  {
   "cell_type": "code",
   "execution_count": 38,
   "id": "dfcd8e22-ef37-4e92-9a26-0954c7f62967",
   "metadata": {},
   "outputs": [
    {
     "name": "stdout",
     "output_type": "stream",
     "text": [
      "Test Loss: 0.6071, Test Accuracy: 0.8455\n"
     ]
    }
   ],
   "source": [
    "# 훈련된 모델의 성능을 테스트 데이터셋으로 평가\n",
    "import torch\n",
    "from torch.nn.utils.rnn import pad_sequence\n",
    "from torch.utils.data import TensorDataset, DataLoader\n",
    "\n",
    "model.eval()  # 모델을 평가 모드로 전환 (Dropout, BatchNorm 등의 동작을 멈춤)\n",
    "test_loss = 0.0  # 테스트 손실 합계를 초기화\n",
    "test_correct = 0  # 맞춘 정답 개수를 초기화\n",
    "test_total = 0  # 전체 테스트 데이터 개수를 초기화\n",
    "\n",
    "\n",
    "# ① x_test를 torch 텐서 리스트로 변환\n",
    "x_test_tensor_list = [torch.tensor(seq, dtype=torch.long) for seq in x_test]\n",
    "\n",
    "# ② 시퀀스 길이를 맞추기 위해 패딩 (batch_size, max_len 형태)\n",
    "x_test_padded = pad_sequence(x_test_tensor_list, batch_first=True, padding_value=0)\n",
    "\n",
    "# ③ y_test를 텐서로 변환\n",
    "y_test_tensor = torch.tensor(y_test, dtype=torch.float)\n",
    "\n",
    "# ④ TensorDataset과 DataLoader 생성\n",
    "test_dataset = TensorDataset(x_test_padded, y_test_tensor)\n",
    "test_loader = DataLoader(test_dataset, batch_size=512, shuffle=False)\n",
    "\n",
    "\n",
    "# x_test_tensor = torch.tensor(x_test, dtype=torch.long)  # 테스트용 입력 데이터를 PyTorch 텐서로 변환\n",
    "# y_test_tensor = torch.tensor(y_test, dtype=torch.float)  # 테스트용 라벨 데이터를 PyTorch 텐서로 변환\n",
    "# test_dataset = TensorDataset(x_test_tensor, y_test_tensor)  # 테스트 데이터와 라벨을 PyTorch 데이터셋으로 묶음\n",
    "# test_loader = DataLoader(test_dataset, batch_size=512, shuffle=False)  # 테스트 데이터셋을 효율적으로 로드하기 위한 데이터로더 생성\n",
    "\n",
    "with torch.no_grad():  # 기울기 계산을 비활성화하여 메모리와 연산 효율 최적화\n",
    "    for inputs, labels in test_loader:\n",
    "        outputs = model(inputs)  # 모델에 테스트 데이터를 입력하여 예측값 생성\n",
    "        loss = loss_fn(outputs.squeeze(), labels)  # 예측값과 실제 라벨 간의 손실 계산\n",
    "\n",
    "        test_loss += loss.item()  # 배치 손실을 누적\n",
    "        predicted = (outputs.squeeze() > 0.5).float()  # 예측값이 0.5보다 크면 긍정(1), 아니면 부정(0)으로 판단\n",
    "        test_correct += (predicted == labels).sum().item()  # 예측이 맞은 개수를 누적\n",
    "        test_total += labels.size(0)  # 전체 테스트 데이터 개수를 누적\n",
    "\n",
    "print(f\"Test Loss: {test_loss / len(test_loader):.4f}, Test Accuracy: {test_correct / test_total:.4f}\")  # 최종 평균 손실과 정확도 출력"
   ]
  },
  {
   "cell_type": "code",
   "execution_count": null,
   "id": "c7b0e0f5-9ace-4ef3-af90-f5193d67c788",
   "metadata": {},
   "outputs": [],
   "source": []
  },
  {
   "cell_type": "code",
   "execution_count": null,
   "id": "7abc7684-dd17-4dd8-8b06-434db2aae0d6",
   "metadata": {},
   "outputs": [],
   "source": []
  },
  {
   "cell_type": "code",
   "execution_count": null,
   "id": "b844becd-f35f-4f83-a66a-955b164bc059",
   "metadata": {},
   "outputs": [],
   "source": []
  },
  {
   "cell_type": "code",
   "execution_count": null,
   "id": "bf9e5b4b-0ce8-4ed2-b463-5c49f793801d",
   "metadata": {},
   "outputs": [],
   "source": []
  },
  {
   "cell_type": "code",
   "execution_count": null,
   "id": "d648c018-30d1-46f7-a7db-3ab5d83826cf",
   "metadata": {},
   "outputs": [],
   "source": []
  }
 ],
 "metadata": {
  "kernelspec": {
   "display_name": "Python 3 (ipykernel)",
   "language": "python",
   "name": "python3"
  },
  "language_info": {
   "codemirror_mode": {
    "name": "ipython",
    "version": 3
   },
   "file_extension": ".py",
   "mimetype": "text/x-python",
   "name": "python",
   "nbconvert_exporter": "python",
   "pygments_lexer": "ipython3",
   "version": "3.12.11"
  }
 },
 "nbformat": 4,
 "nbformat_minor": 5
}
